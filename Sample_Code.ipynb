{
 "cells": [
  {
   "cell_type": "markdown",
   "metadata": {},
   "source": [
    "## Computable Phenotype Generation for Congestive Heart Failure and Utilization of Machine learning clustering method to analyse the comorbidity among the clusters.\n"
   ]
  },
  {
   "cell_type": "markdown",
   "metadata": {},
   "source": [
    "**Cohort Definition:\n",
    "We are using De-identified MIMIC database to select our cohort**\n",
    "\n",
    "- Incldes all patients with condition diagnosis of Congestive Heart Failure\n",
    "- Includes all patients with age 50 or more\n",
    "- Patients must have 2 ore more visits on records\n",
    "- Patient must have systolic and diastolic bp values on records( can not be null)\n"
   ]
  },
  {
   "cell_type": "markdown",
   "metadata": {},
   "source": [
    "**We also gathered other variables required for our analysis**"
   ]
  },
  {
   "cell_type": "markdown",
   "metadata": {},
   "source": [
    "-  Created pathway1 : patients who takes lisinopril as ingredient noted as 1, otherwise 0\n",
    "-  Gathered patient's age, gender, maximum weight(in Kg)\n",
    "-  Created pathway : Patient who is alive denoted as 1, dead denoted as 0\n",
    "-  Created diabetes pathway:  Patient who has diabetes as condtion denoted as 1, otherwise 0\n",
    "-  Created hypertention pathway:  Patient who has hypertention denoted as 1, otherwise  0\n",
    "-  Created hyperlipidemia pathway: Patient who has hyperlipidemai denoted as 1, otherwise 0"
   ]
  },
  {
   "cell_type": "code",
   "execution_count": 71,
   "metadata": {},
   "outputs": [],
   "source": [
    "import os\n",
    "import sqlalchemy\n",
    "import pandas as pd\n",
    "import matplotlib.pyplot as plt\n",
    "import seaborn as sns\n",
    "sns.set()"
   ]
  },
  {
   "cell_type": "code",
   "execution_count": 72,
   "metadata": {},
   "outputs": [
    {
     "data": {
      "application/javascript": [
       "IPython.notebook.set_autosave_interval(15000)"
      ]
     },
     "metadata": {},
     "output_type": "display_data"
    },
    {
     "name": "stdout",
     "output_type": "stream",
     "text": [
      "Autosaving every 15 seconds\n"
     ]
    }
   ],
   "source": [
    "# Creates inline plots\n",
    "%matplotlib inline\n",
    "\n",
    "# Saves the notebook on a set time interval (15 seconds in this case)\n",
    "%autosave 15 "
   ]
  },
  {
   "cell_type": "code",
   "execution_count": 73,
   "metadata": {},
   "outputs": [],
   "source": [
    "myUserName = \"chipstudent9\"\n",
    "myPassword = \"UaTuHh1H2Jt9\"\n",
    "\n",
    "server_url = \"mimic-db.renci.unc.edu\"\n",
    "database = \"mimic\"\n",
    "\n",
    "# Create Connection String\n",
    "conn_str = f\"{myUserName}:{myPassword}@{server_url}/{database}\"\n",
    "\n",
    "# Create Engine\n",
    "engine = sqlalchemy.create_engine('postgresql://' + conn_str)"
   ]
  },
  {
   "cell_type": "code",
   "execution_count": 74,
   "metadata": {},
   "outputs": [],
   "source": [
    "# query =  \"\"\"\n",
    "#         select count(*) from omop.person\n",
    "#         \"\"\" \n",
    "\n",
    "# pd.read_sql_query(query, engine)"
   ]
  },
  {
   "cell_type": "code",
   "execution_count": 75,
   "metadata": {},
   "outputs": [],
   "source": [
    "query1 =\"\"\"\n",
    "\n",
    "--Developing computable phenotyping of Congestive Heart Failure\n",
    "--finding concept_id for congestive heart failure\n",
    "with \n",
    "nonstandchf as (\n",
    "select c.*\n",
    "from omop.concept c\n",
    "where c.concept_code LIKE 'I50%' and c.domain_id = 'Condition'\n",
    "),\n",
    "\n",
    "--finds the related codes \n",
    "relationships as (\n",
    "select *\n",
    "from omop.concept_relationship cr JOIN nonstandchf nstd ON cr.concept_id_1 = nstd.concept_id\t\n",
    "where cr.relationship_id = 'Maps to'\n",
    "),\n",
    "\n",
    "--grabs standard codes for CHF\n",
    "stdchf as (\n",
    "select c.*\n",
    "from omop.concept c JOIN relationships r ON c.concept_id= r.concept_id_2\n",
    "where c.standard_concept = 'S'\n",
    "),\n",
    "\t\n",
    "--finding distinct patient id related to condition concept id of congestive heart fialure\n",
    "pidchf as (\n",
    "select distinct co.person_id\n",
    "from omop.condition_occurrence co\n",
    "join stdchf s on co.condition_concept_id = s.concept_id\n",
    "\n",
    "),\n",
    "\n",
    "-- find patient id where age is 50 or more on anyday of visit\n",
    "agepid as (\n",
    "select distinct p.person_id\n",
    "from pidchf p\n",
    "where p.person_id in (select vo.person_id\n",
    "\t\tfrom omop.visit_occurrence vo\n",
    "\t\tjoin omop.person p1 on p1.person_id = vo.person_id\n",
    "\t\twhere EXTRACT(year FROM age(vo.visit_start_date,p1.birth_datetime)) >= 50)\n",
    "\n",
    "),\n",
    "\n",
    "-- patient should have at least 2 visits on record\n",
    "patient_id as (\n",
    "select distinct vo.person_id \n",
    "from omop.visit_occurrence vo\n",
    "join agepid a on a.person_id = vo.person_id\n",
    "group by vo.person_id\n",
    "having count(distinct(vo.visit_start_date))>=2\n",
    "\n",
    "),\n",
    "\n",
    "-- finding systlic blood pressure (if blood pressure is null, we do not include them in cohort)\n",
    "systolic_bp as (\n",
    "select distinct pid.person_id, max ( m.value_as_number) as systolic_bp\n",
    "from patient_id pid\n",
    "join omop.measurement m on m.person_id = pid.person_id\n",
    "where m.measurement_concept_id in ('3004249','3018586', '3035856','3009395')\n",
    "group by pid.person_id\n",
    "),\n",
    "\n",
    "--finding diastolic blood pressure (if blood pressure is null, we do not include them in cohort)\n",
    "diastolic_bp as (\n",
    "select distinct sbp.person_id, max (m.value_as_number ) as diastolic_bp\n",
    "from systolic_bp sbp\n",
    "join omop.measurement m on m.person_id = sbp.person_id\n",
    "where m.measurement_concept_id in ('3012888', '3034703', '3019962', '3013940')\n",
    "group by sbp.person_id\n",
    "),\n",
    "\n",
    "-- -- we used following query to find out concept id for lisinopril as ingredient\n",
    "-- -- select *\n",
    "-- -- from omop.concept c\n",
    "-- -- where lower(c.concept_name) = 'lisinopril' and lower(c.concept_class_id) like '%ingre%' ;\n",
    "\n",
    "-- --This search will try to find any other concept_id maps to my finding, we found same concept id\n",
    "-- -- SELECT *\n",
    "-- -- FROM omop.concept_relationship c\n",
    "-- -- WHERE c.concept_id_1 = 1308216\n",
    "-- -- AND c.relationship_id = 'Maps to';\n",
    "\n",
    "--This will help us to find all the drugs(children) that has ingredient(parent) as lisinopril\n",
    "lisinoprilchild as (\n",
    "select a.max_levels_of_separation , c.*\n",
    "from omop.concept_ancestor a\n",
    "join omop.concept c on c.concept_id = a.descendant_concept_id \n",
    "\twhere a.ancestor_concept_id = 1308216 --ingredient is always set as parent(ancestor)\n",
    "order by a.max_levels_of_separation\n",
    "\t),\n",
    "\n",
    "-- This will help us narrowdown patient's id who has lisinopril as ingredient \n",
    "allpiddrug as (\n",
    "select de.*\n",
    "from omop.drug_exposure de\n",
    "join lisinoprilchild lc on lc.concept_id = de.drug_concept_id\n",
    "),\n",
    "\n",
    "--This pathways indicates if patient takes lisinopril as ingredient then 1, otherwise 0\n",
    "pathway1 as (\n",
    "select distinct pid.person_id , pid.diastolic_bp,\n",
    "\tcase when dr.person_id is null\n",
    "\tthen '0'\n",
    "\telse '1'\n",
    "\tend as pathway1\n",
    "from diastolic_bp pid\n",
    "left join allpiddrug dr on dr.person_id = pid.person_id\n",
    "),\n",
    "\n",
    "--connect bp , lisinopril in one table\n",
    "allbp as (\n",
    "select pid.person_id,pid.pathway1,pid.diastolic_bp,sbp.systolic_bp\n",
    "from pathway1 pid\n",
    "join systolic_bp sbp on sbp.person_id = pid.person_id\n",
    "\n",
    "),\n",
    "-------------------------------------------------------------------\n",
    "-- Upto this point , we have all our chohort.  Now we will gather some more criteria for our analysis from database\n",
    "-- So far we have 3154 rows \n",
    "-- --get age of all patient who are 50 and older in database \n",
    "-- --there are multiple age for same patient- selected max age of patient in database\n",
    "\n",
    "all_age as (\n",
    "select distinct vo.person_id, max(EXTRACT(year FROM age(vo.visit_start_date,p1.birth_datetime)))as age\n",
    "from omop.visit_occurrence vo \n",
    "join omop.person p1 on p1.person_id = vo.person_id\n",
    "where EXTRACT(year FROM age(vo.visit_start_date,p1.birth_datetime)) >= 50\n",
    "\tgroup by vo.person_id\n",
    "\n",
    "),\n",
    "-- -- get age of our patient \n",
    "pathway4 as (\n",
    "select pid.*, a_age.age\n",
    "from allbp pid\n",
    "left join all_age a_age on a_age.person_id = pid.person_id\n",
    "),\n",
    "\n",
    "-- --get gender concept\n",
    "gender_concept as (\n",
    "select c.concept_name, c.concept_id\n",
    "from omop.concept c\n",
    "where lower(c.domain_id) = 'gender'\n",
    "and c.standard_concept = 'S'\n",
    ") ,\n",
    "\n",
    "--get gender for our patients\n",
    "pathway5 as (\n",
    "select pid.*, gc.concept_name as gender\n",
    "from pathway4 pid\n",
    "left join omop.person p on p.person_id = pid.person_id\n",
    "join gender_concept gc on gc.concept_id = p.gender_concept_id\n",
    "),\n",
    "\n",
    "-- --get the concept id for body weight\n",
    "weight_concept as(\n",
    "select c.*\n",
    "from omop.concept c\n",
    "where lower(c.concept_name) like 'body weight'\n",
    "and c.standard_concept = 'S'\n",
    "and lower(c.domain_id) = 'measurement'\n",
    ") ,\n",
    "\n",
    "-- get weight in KG for our patients\n",
    "weight as (\n",
    "select pid.person_id ,round (max (m.value_as_number),2)as weight\n",
    "from pathway5 pid \n",
    "left join omop.measurement m on m.person_id = pid.person_id\n",
    "join weight_concept wc on wc.concept_id = m.measurement_concept_id\n",
    "group by pid.person_id\n",
    "),\n",
    "\n",
    "pathway6 as  (\n",
    "select pid.*, w.weight\n",
    "from pathway5 pid\n",
    "left join weight w on w.person_id = pid.person_id\n",
    "),\n",
    "\n",
    "--find patient is alive or deceased,  \n",
    "pathway7 as (\n",
    "select pid.*, \n",
    "case when d.person_id is null\n",
    "then '1'\n",
    "else '0'\n",
    "end as dead_alive\n",
    "from pathway6 pid\n",
    "left join omop.death d on d.person_id = pid.person_id\n",
    "),\n",
    "\n",
    "-------------------------------------------------------------------------\n",
    "\n",
    "-- Next goal to see if our cohart of patient has diabetes or not\n",
    "--find concept_id for diabetes only\n",
    "nonstd_diabetes as (\n",
    "select c.*\n",
    "from omop.concept c\n",
    "where ( c.concept_code LIKE 'E10%' or c.concept_code LIKE 'E11%') and c.domain_id = 'Condition'\n",
    "),\n",
    "\n",
    "--finds the related codes \n",
    "relationships_d as (\n",
    "select *\n",
    "from omop.concept_relationship cr JOIN nonstd_diabetes non_d ON cr.concept_id_1 = non_d.concept_id\t\n",
    "where cr.relationship_id = 'Maps to'\n",
    "),\n",
    "\n",
    "--grabs standard codes for diabetes (we get 365 codes for diabetes type 1 and type 2)\n",
    "std_diabetes as (\n",
    "select c.*\n",
    "from omop.concept c JOIN relationships_d r ON c.concept_id= r.concept_id_2\n",
    "where c.standard_concept = 'S'\n",
    "),\n",
    "\n",
    "-- lets join patient on concept id for patient and concept id of diabetes \n",
    "--finding all condtions id for patient\n",
    "allcondition as (\n",
    "select pid.*, co.condition_concept_id --(pid.person_id, pid.pathway1, pid.diastolic_bp,pid.systolic_bp, pid.age,pid.gender, pid.weight,pid.dead_alive)\n",
    "from pathway7 pid\n",
    "Inner join omop.condition_occurrence co on co.person_id = pid.person_id\n",
    "),\n",
    "\n",
    "--this table will join concept id from diabetes and concept id from cohart patient\n",
    "diabetes_1 as (\n",
    "select distinct ac.person_id, sd.concept_id, ac.condition_concept_id\n",
    "from allcondition ac \n",
    "join std_diabetes sd on sd.concept_id = ac.condition_concept_id\n",
    " and ac.condition_concept_id in (sd.concept_id)\n",
    "),\n",
    "\n",
    "--get patient_id and diabetes with switch case\n",
    "--This table gives output of only patient with diabetes\n",
    "diabetes_2 as (\n",
    "select distinct d.person_id, \n",
    "case when d.concept_id is null\n",
    "\tthen 'No diabetes'\n",
    "\telse 'Yes diabetes'\n",
    "\tend as diabetes\n",
    "from diabetes_1 d\n",
    "),\n",
    "\n",
    "\n",
    "--This is to join with orignal table \n",
    "diabetes_pathway as (\n",
    "select distinct ac.person_id, ac.pathway1, ac.diastolic_bp,ac.systolic_bp, ac.age,ac.gender, ac.weight,ac.dead_alive,\n",
    "case when dp.diabetes is null\n",
    "then '0'\n",
    "else '1'\n",
    "end as diabetes_pathway\n",
    "from allcondition ac\n",
    "left join diabetes_2 dp on dp.person_id = ac.person_id\n",
    "),\n",
    "--------------------------------------------------------------------------\n",
    "\n",
    "-- Next goal to see if our cohart of patient has essential hypertention or not\n",
    "--find concept_id for essential hypertention only\n",
    "nonstd_hypertention as (\n",
    "select c.*\n",
    "from omop.concept c\n",
    "where ( c.concept_code LIKE 'I10%' or c.concept_code LIKE 'I11%') and c.domain_id = 'Condition'\n",
    "),\n",
    "\n",
    "--finds the related codes \n",
    "relationships_h as (\n",
    "select *\n",
    "from omop.concept_relationship cr JOIN nonstd_hypertention non_h ON cr.concept_id_1 = non_h.concept_id\t\n",
    "where cr.relationship_id = 'Maps to'\n",
    "),\n",
    "\n",
    "--grabs standard codes for hypertention\n",
    "std_hypertention as (\n",
    "select c.*\n",
    "from omop.concept c JOIN relationships_h r ON c.concept_id= r.concept_id_2\n",
    "where c.standard_concept = 'S'\n",
    "),\n",
    "\n",
    "--this table will join concept id from diabetes and concept id from cohart patient\n",
    "hypertention_1 as (\n",
    "select distinct ac.person_id, sh.concept_id, ac.condition_concept_id\n",
    "from allcondition ac \n",
    "join std_hypertention sh on sh.concept_id = ac.condition_concept_id\n",
    " and ac.condition_concept_id in (sh.concept_id)\n",
    "),\n",
    "\n",
    "--get patient_id and diabetes with switch case\n",
    "hypertention_2 as (\n",
    "select distinct d.person_id, \n",
    "case when d.concept_id is null\n",
    "\tthen 'No hypertention'\n",
    "\telse 'Yes hypertention'\n",
    "\tend as hypertention\n",
    "from hypertention_1 d\n",
    "),\n",
    "\n",
    "--This is to join with orignal table \n",
    "hypertention_pathway as (\n",
    "select distinct dp.person_id, dp.pathway1, dp.diastolic_bp,dp.systolic_bp, dp.age,dp.gender, dp.weight,dp.dead_alive,dp.diabetes_pathway,\n",
    "case when hp.hypertention is null\n",
    "then '0'\n",
    "else '1'\n",
    "end as hypertention_pathway\n",
    "from diabetes_pathway dp\n",
    "left join hypertention_2 hp on hp.person_id = dp.person_id\n",
    "),\n",
    "------------------------------------------------------------\n",
    "\n",
    "-- Next goal to see if our cohart of patient has hyperlipidemia or not\n",
    "--find concept_id for hyperlipidemia only\n",
    "nonstd_hyperlipidemia as (\n",
    "select c.*\n",
    "from omop.concept c\n",
    "where ( c.concept_code LIKE 'E78%') and c.domain_id = 'Condition'\n",
    "),\n",
    "\n",
    "--finds the related codes \n",
    "relationships_hy as (\n",
    "select *\n",
    "from omop.concept_relationship cr JOIN nonstd_hyperlipidemia non_h ON cr.concept_id_1 = non_h.concept_id\t\n",
    "where cr.relationship_id = 'Maps to'\n",
    "),\n",
    "\n",
    "--grabs standard codes for hyperlipidemia\n",
    "std_hyperlipidemia as (\n",
    "select c.*\n",
    "from omop.concept c JOIN relationships_hy r ON c.concept_id= r.concept_id_2\n",
    "where c.standard_concept = 'S'\n",
    "),\n",
    "\n",
    "--this table will join concept id from hyperlipidemia and concept id from cohart patient\n",
    "hyperlipidemia_1 as (\n",
    "select distinct ac.person_id, shl.concept_id, ac.condition_concept_id\n",
    "from allcondition ac \n",
    "join std_hyperlipidemia shl on shl.concept_id = ac.condition_concept_id\n",
    " and ac.condition_concept_id in (shl.concept_id)\n",
    "),\n",
    "\n",
    "--get patient_id and hyperlipidemia with switch case\n",
    "hyperlipidemia_2 as (\n",
    "select distinct d.person_id, \n",
    "case when d.concept_id is null\n",
    "\tthen 'No hyperlipidemia'\n",
    "\telse 'Yes hyperlipidemia'\n",
    "\tend as hyperlipidemia\n",
    "from hyperlipidemia_1 d\n",
    ")\n",
    "\n",
    "--This is to join with orignal table \n",
    "--hypertention_pathway as (\n",
    "select distinct dp.person_id, dp.pathway1, dp.diastolic_bp,dp.systolic_bp, dp.age,dp.gender, dp.weight,dp.dead_alive,dp.diabetes_pathway, dp.hypertention_pathway,\n",
    "case when hp.hyperlipidemia is null\n",
    "then '0'\n",
    "else '1'\n",
    "end as hyperlipidemia_pathway\n",
    "from hypertention_pathway dp\n",
    "left join hyperlipidemia_2 hp on hp.person_id = dp.person_id\n",
    "--),\n",
    "\n",
    "\n",
    "\"\"\"\n",
    "chf_1 = pd.read_sql_query(sqlalchemy.text(query1),engine)"
   ]
  },
  {
   "cell_type": "code",
   "execution_count": 76,
   "metadata": {},
   "outputs": [],
   "source": [
    "# for conviniece purposes, while I do my analysis, I have created csv file which we will read , insted of running whole query\n",
    "#chf_1 = pd.read_csv('chf_phenotype.csv')"
   ]
  },
  {
   "cell_type": "markdown",
   "metadata": {},
   "source": [
    "### Check the overall datafram looks like and validate our cohar by checking number of unique rows and not null values "
   ]
  },
  {
   "cell_type": "code",
   "execution_count": 77,
   "metadata": {},
   "outputs": [
    {
     "data": {
      "text/html": [
       "<div>\n",
       "<style scoped>\n",
       "    .dataframe tbody tr th:only-of-type {\n",
       "        vertical-align: middle;\n",
       "    }\n",
       "\n",
       "    .dataframe tbody tr th {\n",
       "        vertical-align: top;\n",
       "    }\n",
       "\n",
       "    .dataframe thead th {\n",
       "        text-align: right;\n",
       "    }\n",
       "</style>\n",
       "<table border=\"1\" class=\"dataframe\">\n",
       "  <thead>\n",
       "    <tr style=\"text-align: right;\">\n",
       "      <th></th>\n",
       "      <th>person_id</th>\n",
       "      <th>pathway1</th>\n",
       "      <th>diastolic_bp</th>\n",
       "      <th>systolic_bp</th>\n",
       "      <th>age</th>\n",
       "      <th>gender</th>\n",
       "      <th>weight</th>\n",
       "      <th>dead_alive</th>\n",
       "      <th>diabetes_pathway</th>\n",
       "      <th>hypertention_pathway</th>\n",
       "      <th>hyperlipidemia_pathway</th>\n",
       "    </tr>\n",
       "  </thead>\n",
       "  <tbody>\n",
       "    <tr>\n",
       "      <th>0</th>\n",
       "      <td>392775850</td>\n",
       "      <td>1</td>\n",
       "      <td>89.0</td>\n",
       "      <td>169.0</td>\n",
       "      <td>81.0</td>\n",
       "      <td>FEMALE</td>\n",
       "      <td>98.0</td>\n",
       "      <td>1</td>\n",
       "      <td>0</td>\n",
       "      <td>0</td>\n",
       "      <td>1</td>\n",
       "    </tr>\n",
       "    <tr>\n",
       "      <th>1</th>\n",
       "      <td>392775872</td>\n",
       "      <td>1</td>\n",
       "      <td>111.0</td>\n",
       "      <td>195.0</td>\n",
       "      <td>66.0</td>\n",
       "      <td>MALE</td>\n",
       "      <td>56.0</td>\n",
       "      <td>1</td>\n",
       "      <td>0</td>\n",
       "      <td>1</td>\n",
       "      <td>1</td>\n",
       "    </tr>\n",
       "    <tr>\n",
       "      <th>2</th>\n",
       "      <td>392775881</td>\n",
       "      <td>1</td>\n",
       "      <td>107.0</td>\n",
       "      <td>185.0</td>\n",
       "      <td>79.0</td>\n",
       "      <td>FEMALE</td>\n",
       "      <td>55.0</td>\n",
       "      <td>0</td>\n",
       "      <td>0</td>\n",
       "      <td>1</td>\n",
       "      <td>0</td>\n",
       "    </tr>\n",
       "    <tr>\n",
       "      <th>3</th>\n",
       "      <td>392775886</td>\n",
       "      <td>0</td>\n",
       "      <td>82.0</td>\n",
       "      <td>142.0</td>\n",
       "      <td>85.0</td>\n",
       "      <td>FEMALE</td>\n",
       "      <td>59.9</td>\n",
       "      <td>0</td>\n",
       "      <td>0</td>\n",
       "      <td>1</td>\n",
       "      <td>0</td>\n",
       "    </tr>\n",
       "    <tr>\n",
       "      <th>4</th>\n",
       "      <td>392775894</td>\n",
       "      <td>1</td>\n",
       "      <td>107.0</td>\n",
       "      <td>193.0</td>\n",
       "      <td>56.0</td>\n",
       "      <td>FEMALE</td>\n",
       "      <td>148.9</td>\n",
       "      <td>1</td>\n",
       "      <td>1</td>\n",
       "      <td>1</td>\n",
       "      <td>1</td>\n",
       "    </tr>\n",
       "  </tbody>\n",
       "</table>\n",
       "</div>"
      ],
      "text/plain": [
       "   person_id pathway1  diastolic_bp  systolic_bp   age  gender  weight  \\\n",
       "0  392775850        1          89.0        169.0  81.0  FEMALE    98.0   \n",
       "1  392775872        1         111.0        195.0  66.0    MALE    56.0   \n",
       "2  392775881        1         107.0        185.0  79.0  FEMALE    55.0   \n",
       "3  392775886        0          82.0        142.0  85.0  FEMALE    59.9   \n",
       "4  392775894        1         107.0        193.0  56.0  FEMALE   148.9   \n",
       "\n",
       "  dead_alive diabetes_pathway hypertention_pathway hyperlipidemia_pathway  \n",
       "0          1                0                    0                      1  \n",
       "1          1                0                    1                      1  \n",
       "2          0                0                    1                      0  \n",
       "3          0                0                    1                      0  \n",
       "4          1                1                    1                      1  "
      ]
     },
     "execution_count": 77,
     "metadata": {},
     "output_type": "execute_result"
    }
   ],
   "source": [
    "#chf_1 = pd.read_csv('heartfail_march18_withoutcondition.csv')\n",
    "chf_1.head()"
   ]
  },
  {
   "cell_type": "code",
   "execution_count": 78,
   "metadata": {},
   "outputs": [
    {
     "data": {
      "text/html": [
       "<div>\n",
       "<style scoped>\n",
       "    .dataframe tbody tr th:only-of-type {\n",
       "        vertical-align: middle;\n",
       "    }\n",
       "\n",
       "    .dataframe tbody tr th {\n",
       "        vertical-align: top;\n",
       "    }\n",
       "\n",
       "    .dataframe thead th {\n",
       "        text-align: right;\n",
       "    }\n",
       "</style>\n",
       "<table border=\"1\" class=\"dataframe\">\n",
       "  <thead>\n",
       "    <tr style=\"text-align: right;\">\n",
       "      <th></th>\n",
       "      <th>person_id</th>\n",
       "      <th>diastolic_bp</th>\n",
       "      <th>systolic_bp</th>\n",
       "      <th>age</th>\n",
       "      <th>weight</th>\n",
       "    </tr>\n",
       "  </thead>\n",
       "  <tbody>\n",
       "    <tr>\n",
       "      <th>count</th>\n",
       "      <td>3.154000e+03</td>\n",
       "      <td>3154.000000</td>\n",
       "      <td>3154.000000</td>\n",
       "      <td>3154.000000</td>\n",
       "      <td>3125.000000</td>\n",
       "    </tr>\n",
       "    <tr>\n",
       "      <th>mean</th>\n",
       "      <td>3.927975e+08</td>\n",
       "      <td>458.542188</td>\n",
       "      <td>257.425193</td>\n",
       "      <td>93.524096</td>\n",
       "      <td>91.119706</td>\n",
       "    </tr>\n",
       "    <tr>\n",
       "      <th>std</th>\n",
       "      <td>1.309188e+04</td>\n",
       "      <td>4595.702868</td>\n",
       "      <td>3090.737548</td>\n",
       "      <td>67.627721</td>\n",
       "      <td>43.790892</td>\n",
       "    </tr>\n",
       "    <tr>\n",
       "      <th>min</th>\n",
       "      <td>3.927758e+08</td>\n",
       "      <td>52.000000</td>\n",
       "      <td>105.000000</td>\n",
       "      <td>50.000000</td>\n",
       "      <td>1.000000</td>\n",
       "    </tr>\n",
       "    <tr>\n",
       "      <th>25%</th>\n",
       "      <td>3.927863e+08</td>\n",
       "      <td>91.000000</td>\n",
       "      <td>156.000000</td>\n",
       "      <td>65.000000</td>\n",
       "      <td>71.000000</td>\n",
       "    </tr>\n",
       "    <tr>\n",
       "      <th>50%</th>\n",
       "      <td>3.927965e+08</td>\n",
       "      <td>103.000000</td>\n",
       "      <td>174.000000</td>\n",
       "      <td>75.000000</td>\n",
       "      <td>84.500000</td>\n",
       "    </tr>\n",
       "    <tr>\n",
       "      <th>75%</th>\n",
       "      <td>3.928084e+08</td>\n",
       "      <td>123.000000</td>\n",
       "      <td>194.000000</td>\n",
       "      <td>83.000000</td>\n",
       "      <td>101.000000</td>\n",
       "    </tr>\n",
       "    <tr>\n",
       "      <th>max</th>\n",
       "      <td>3.928224e+08</td>\n",
       "      <td>91099.980000</td>\n",
       "      <td>141146.040000</td>\n",
       "      <td>311.000000</td>\n",
       "      <td>1410.000000</td>\n",
       "    </tr>\n",
       "  </tbody>\n",
       "</table>\n",
       "</div>"
      ],
      "text/plain": [
       "          person_id  diastolic_bp    systolic_bp          age       weight\n",
       "count  3.154000e+03   3154.000000    3154.000000  3154.000000  3125.000000\n",
       "mean   3.927975e+08    458.542188     257.425193    93.524096    91.119706\n",
       "std    1.309188e+04   4595.702868    3090.737548    67.627721    43.790892\n",
       "min    3.927758e+08     52.000000     105.000000    50.000000     1.000000\n",
       "25%    3.927863e+08     91.000000     156.000000    65.000000    71.000000\n",
       "50%    3.927965e+08    103.000000     174.000000    75.000000    84.500000\n",
       "75%    3.928084e+08    123.000000     194.000000    83.000000   101.000000\n",
       "max    3.928224e+08  91099.980000  141146.040000   311.000000  1410.000000"
      ]
     },
     "execution_count": 78,
     "metadata": {},
     "output_type": "execute_result"
    }
   ],
   "source": [
    "chf_1.describe()"
   ]
  },
  {
   "cell_type": "code",
   "execution_count": 79,
   "metadata": {},
   "outputs": [
    {
     "data": {
      "text/plain": [
       "3154"
      ]
     },
     "execution_count": 79,
     "metadata": {},
     "output_type": "execute_result"
    }
   ],
   "source": [
    "# We can varifies that all patients are unique.  Our total number of row count and unique patient's id are same\n",
    "chf_1.loc[:,'person_id'].nunique()"
   ]
  },
  {
   "cell_type": "code",
   "execution_count": 80,
   "metadata": {},
   "outputs": [
    {
     "data": {
      "text/plain": [
       "person_id                 False\n",
       "pathway1                  False\n",
       "diastolic_bp              False\n",
       "systolic_bp               False\n",
       "age                       False\n",
       "gender                    False\n",
       "weight                     True\n",
       "dead_alive                False\n",
       "diabetes_pathway          False\n",
       "hypertention_pathway      False\n",
       "hyperlipidemia_pathway    False\n",
       "dtype: bool"
      ]
     },
     "execution_count": 80,
     "metadata": {},
     "output_type": "execute_result"
    }
   ],
   "source": [
    "# This will also varifies that our systolic and diastolic columns does not have any null values\n",
    "chf_1.isnull().any()"
   ]
  },
  {
   "cell_type": "code",
   "execution_count": 81,
   "metadata": {},
   "outputs": [
    {
     "data": {
      "text/html": [
       "<div>\n",
       "<style scoped>\n",
       "    .dataframe tbody tr th:only-of-type {\n",
       "        vertical-align: middle;\n",
       "    }\n",
       "\n",
       "    .dataframe tbody tr th {\n",
       "        vertical-align: top;\n",
       "    }\n",
       "\n",
       "    .dataframe thead th {\n",
       "        text-align: right;\n",
       "    }\n",
       "</style>\n",
       "<table border=\"1\" class=\"dataframe\">\n",
       "  <thead>\n",
       "    <tr style=\"text-align: right;\">\n",
       "      <th></th>\n",
       "      <th>person_id</th>\n",
       "      <th>pathway1</th>\n",
       "      <th>diastolic_bp</th>\n",
       "      <th>systolic_bp</th>\n",
       "      <th>age</th>\n",
       "      <th>gender</th>\n",
       "      <th>weight</th>\n",
       "      <th>dead_alive</th>\n",
       "      <th>diabetes_pathway</th>\n",
       "      <th>hypertention_pathway</th>\n",
       "      <th>hyperlipidemia_pathway</th>\n",
       "    </tr>\n",
       "  </thead>\n",
       "  <tbody>\n",
       "    <tr>\n",
       "      <th>0</th>\n",
       "      <td>392775850</td>\n",
       "      <td>1</td>\n",
       "      <td>89.0</td>\n",
       "      <td>169.0</td>\n",
       "      <td>81.0</td>\n",
       "      <td>FEMALE</td>\n",
       "      <td>98.00</td>\n",
       "      <td>1</td>\n",
       "      <td>0</td>\n",
       "      <td>0</td>\n",
       "      <td>1</td>\n",
       "    </tr>\n",
       "    <tr>\n",
       "      <th>1</th>\n",
       "      <td>392775872</td>\n",
       "      <td>1</td>\n",
       "      <td>111.0</td>\n",
       "      <td>195.0</td>\n",
       "      <td>66.0</td>\n",
       "      <td>MALE</td>\n",
       "      <td>56.00</td>\n",
       "      <td>1</td>\n",
       "      <td>0</td>\n",
       "      <td>1</td>\n",
       "      <td>1</td>\n",
       "    </tr>\n",
       "    <tr>\n",
       "      <th>2</th>\n",
       "      <td>392775881</td>\n",
       "      <td>1</td>\n",
       "      <td>107.0</td>\n",
       "      <td>185.0</td>\n",
       "      <td>79.0</td>\n",
       "      <td>FEMALE</td>\n",
       "      <td>55.00</td>\n",
       "      <td>0</td>\n",
       "      <td>0</td>\n",
       "      <td>1</td>\n",
       "      <td>0</td>\n",
       "    </tr>\n",
       "    <tr>\n",
       "      <th>3</th>\n",
       "      <td>392775886</td>\n",
       "      <td>0</td>\n",
       "      <td>82.0</td>\n",
       "      <td>142.0</td>\n",
       "      <td>85.0</td>\n",
       "      <td>FEMALE</td>\n",
       "      <td>59.90</td>\n",
       "      <td>0</td>\n",
       "      <td>0</td>\n",
       "      <td>1</td>\n",
       "      <td>0</td>\n",
       "    </tr>\n",
       "    <tr>\n",
       "      <th>4</th>\n",
       "      <td>392775894</td>\n",
       "      <td>1</td>\n",
       "      <td>107.0</td>\n",
       "      <td>193.0</td>\n",
       "      <td>56.0</td>\n",
       "      <td>FEMALE</td>\n",
       "      <td>148.90</td>\n",
       "      <td>1</td>\n",
       "      <td>1</td>\n",
       "      <td>1</td>\n",
       "      <td>1</td>\n",
       "    </tr>\n",
       "    <tr>\n",
       "      <th>...</th>\n",
       "      <td>...</td>\n",
       "      <td>...</td>\n",
       "      <td>...</td>\n",
       "      <td>...</td>\n",
       "      <td>...</td>\n",
       "      <td>...</td>\n",
       "      <td>...</td>\n",
       "      <td>...</td>\n",
       "      <td>...</td>\n",
       "      <td>...</td>\n",
       "      <td>...</td>\n",
       "    </tr>\n",
       "    <tr>\n",
       "      <th>3149</th>\n",
       "      <td>392822241</td>\n",
       "      <td>1</td>\n",
       "      <td>135.0</td>\n",
       "      <td>198.0</td>\n",
       "      <td>78.0</td>\n",
       "      <td>MALE</td>\n",
       "      <td>81.60</td>\n",
       "      <td>0</td>\n",
       "      <td>0</td>\n",
       "      <td>1</td>\n",
       "      <td>1</td>\n",
       "    </tr>\n",
       "    <tr>\n",
       "      <th>3150</th>\n",
       "      <td>392822327</td>\n",
       "      <td>0</td>\n",
       "      <td>91.0</td>\n",
       "      <td>128.0</td>\n",
       "      <td>87.0</td>\n",
       "      <td>MALE</td>\n",
       "      <td>67.00</td>\n",
       "      <td>0</td>\n",
       "      <td>0</td>\n",
       "      <td>1</td>\n",
       "      <td>0</td>\n",
       "    </tr>\n",
       "    <tr>\n",
       "      <th>3151</th>\n",
       "      <td>392822329</td>\n",
       "      <td>0</td>\n",
       "      <td>135.0</td>\n",
       "      <td>188.0</td>\n",
       "      <td>85.0</td>\n",
       "      <td>FEMALE</td>\n",
       "      <td>47.50</td>\n",
       "      <td>1</td>\n",
       "      <td>0</td>\n",
       "      <td>1</td>\n",
       "      <td>0</td>\n",
       "    </tr>\n",
       "    <tr>\n",
       "      <th>3152</th>\n",
       "      <td>392822338</td>\n",
       "      <td>1</td>\n",
       "      <td>175.0</td>\n",
       "      <td>182.0</td>\n",
       "      <td>76.0</td>\n",
       "      <td>FEMALE</td>\n",
       "      <td>107.95</td>\n",
       "      <td>1</td>\n",
       "      <td>0</td>\n",
       "      <td>1</td>\n",
       "      <td>1</td>\n",
       "    </tr>\n",
       "    <tr>\n",
       "      <th>3153</th>\n",
       "      <td>392822357</td>\n",
       "      <td>1</td>\n",
       "      <td>100.0</td>\n",
       "      <td>183.0</td>\n",
       "      <td>84.0</td>\n",
       "      <td>MALE</td>\n",
       "      <td>66.00</td>\n",
       "      <td>1</td>\n",
       "      <td>0</td>\n",
       "      <td>1</td>\n",
       "      <td>1</td>\n",
       "    </tr>\n",
       "  </tbody>\n",
       "</table>\n",
       "<p>3125 rows × 11 columns</p>\n",
       "</div>"
      ],
      "text/plain": [
       "      person_id pathway1  diastolic_bp  systolic_bp   age  gender  weight  \\\n",
       "0     392775850        1          89.0        169.0  81.0  FEMALE   98.00   \n",
       "1     392775872        1         111.0        195.0  66.0    MALE   56.00   \n",
       "2     392775881        1         107.0        185.0  79.0  FEMALE   55.00   \n",
       "3     392775886        0          82.0        142.0  85.0  FEMALE   59.90   \n",
       "4     392775894        1         107.0        193.0  56.0  FEMALE  148.90   \n",
       "...         ...      ...           ...          ...   ...     ...     ...   \n",
       "3149  392822241        1         135.0        198.0  78.0    MALE   81.60   \n",
       "3150  392822327        0          91.0        128.0  87.0    MALE   67.00   \n",
       "3151  392822329        0         135.0        188.0  85.0  FEMALE   47.50   \n",
       "3152  392822338        1         175.0        182.0  76.0  FEMALE  107.95   \n",
       "3153  392822357        1         100.0        183.0  84.0    MALE   66.00   \n",
       "\n",
       "     dead_alive diabetes_pathway hypertention_pathway hyperlipidemia_pathway  \n",
       "0             1                0                    0                      1  \n",
       "1             1                0                    1                      1  \n",
       "2             0                0                    1                      0  \n",
       "3             0                0                    1                      0  \n",
       "4             1                1                    1                      1  \n",
       "...         ...              ...                  ...                    ...  \n",
       "3149          0                0                    1                      1  \n",
       "3150          0                0                    1                      0  \n",
       "3151          1                0                    1                      0  \n",
       "3152          1                0                    1                      1  \n",
       "3153          1                0                    1                      1  \n",
       "\n",
       "[3125 rows x 11 columns]"
      ]
     },
     "execution_count": 81,
     "metadata": {},
     "output_type": "execute_result"
    }
   ],
   "source": [
    "# Will drop null values from weight columns (null values causes error while ploting graph as our analysis does not requred null values in weight)\n",
    "chf_1.dropna(axis=0)\n",
    "# Now we are down to 3125 rows for our analysis"
   ]
  },
  {
   "cell_type": "markdown",
   "metadata": {},
   "source": [
    "## Step1:  Clean the data, Find out outlier with traditional method and remove them\n",
    "\n",
    " **In order to apply traditional method of 3 standard deviation, distribtuion must be normal.  Once we have normal distribution, we can apply probability density function, where 99.7% of population falls withing three standard deviation limit and outide this range datapoints are our outliers.** \n",
    "\n",
    "* Variables are diastolic blood pressure, systolic blood pressure, age, weight  \n",
    "* Let's check if the the distribution is normal or not."
   ]
  },
  {
   "cell_type": "code",
   "execution_count": 82,
   "metadata": {},
   "outputs": [
    {
     "name": "stderr",
     "output_type": "stream",
     "text": [
      "/Users/mansishah/opt/anaconda3/lib/python3.7/site-packages/numpy/lib/histograms.py:839: RuntimeWarning: invalid value encountered in greater_equal\n",
      "  keep = (tmp_a >= first_edge)\n",
      "/Users/mansishah/opt/anaconda3/lib/python3.7/site-packages/numpy/lib/histograms.py:840: RuntimeWarning: invalid value encountered in less_equal\n",
      "  keep &= (tmp_a <= last_edge)\n"
     ]
    },
    {
     "data": {
      "image/png": "[encoded data removed]",
      "text/plain": [
       "<Figure size 432x288 with 1 Axes>"
      ]
     },
     "metadata": {
      "needs_background": "light"
     },
     "output_type": "display_data"
    },
    {
     "data": {
      "text/plain": [
       "<Figure size 432x288 with 0 Axes>"
      ]
     },
     "metadata": {},
     "output_type": "display_data"
    }
   ],
   "source": [
    "# Weight histogram to see the distribution \n",
    "plt.hist(chf_1.weight)\n",
    "plt.xlabel('Weight')\n",
    "plt.ylabel('Number of patients')\n",
    "plt.title= ('Distribution of Weight among patient cohort')\n",
    "plt.show()\n",
    "# And this is how you can save a figure that you have created\n",
    "plt.gcf().savefig('weight_histogram_unclean.png')\n",
    "#\n",
    "# It is good to define difference betweeen outlier and manual error!!!\n"
   ]
  },
  {
   "cell_type": "code",
   "execution_count": 83,
   "metadata": {},
   "outputs": [
    {
     "data": {
      "image/png": "[encoded data removed]",
      "text/plain": [
       "<Figure size 432x288 with 1 Axes>"
      ]
     },
     "metadata": {
      "needs_background": "light"
     },
     "output_type": "display_data"
    },
    {
     "data": {
      "text/plain": [
       "<Figure size 432x288 with 0 Axes>"
      ]
     },
     "metadata": {},
     "output_type": "display_data"
    }
   ],
   "source": [
    "# Set the threshold for weight \n",
    "x1_values_unclean = chf_1.loc[:,'weight']\n",
    "# droping rows with weight value is unrealistic\n",
    "chf_2 = chf_1.drop(chf_1[chf_1.weight >=400].index)\n",
    "# also remove null values\n",
    "chf_2 =chf_1.dropna()\n",
    "x1_values_clean = chf_2.loc[:,'weight']\n",
    "\n",
    "plt.hist(x1_values_clean)\n",
    "plt.xlabel('Weight')\n",
    "plt.ylabel('Number of patients')\n",
    "plt.title= ('Distribution of weight among patient cohort')\n",
    "plt.show()\n",
    "plt.gcf().savefig('weight_histogram_clean.png')"
   ]
  },
  {
   "cell_type": "code",
   "execution_count": 84,
   "metadata": {},
   "outputs": [
    {
     "data": {
      "text/plain": [
       "(3125, 11)"
      ]
     },
     "execution_count": 84,
     "metadata": {},
     "output_type": "execute_result"
    }
   ],
   "source": [
    "chf_2.shape\n",
    "# we have droped thoes rows from our dataset.  \n",
    "# Before we move on with our analysis plan; Let's find out any unrealistic manual error with other variables\n"
   ]
  },
  {
   "cell_type": "markdown",
   "metadata": {},
   "source": [
    "* Systolic Blood pressure : histogram, remove manual error, check distribution, check number of rows \n"
   ]
  },
  {
   "cell_type": "code",
   "execution_count": 15,
   "metadata": {},
   "outputs": [
    {
     "data": {
      "image/png": "[encoded data removed]",
      "text/plain": [
       "<Figure size 432x288 with 1 Axes>"
      ]
     },
     "metadata": {
      "needs_background": "light"
     },
     "output_type": "display_data"
    },
    {
     "data": {
      "text/plain": [
       "<Figure size 432x288 with 0 Axes>"
      ]
     },
     "metadata": {},
     "output_type": "display_data"
    }
   ],
   "source": [
    "plt.hist(chf_2.systolic_bp)\n",
    "plt.xlabel('Systolic blood pressure')\n",
    "plt.ylabel('Number of patients')\n",
    "plt.title= ('Distribution of systolic blood pressure among patient cohort')\n",
    "plt.show()\n",
    "plt.gcf().savefig('Systolic_histogram_unclean.png')"
   ]
  },
  {
   "cell_type": "code",
   "execution_count": 16,
   "metadata": {
    "scrolled": false
   },
   "outputs": [
    {
     "data": {
      "image/png": "[encoded data removed]",
      "text/plain": [
       "<Figure size 432x288 with 1 Axes>"
      ]
     },
     "metadata": {
      "needs_background": "light"
     },
     "output_type": "display_data"
    },
    {
     "data": {
      "text/plain": [
       "<Figure size 432x288 with 0 Axes>"
      ]
     },
     "metadata": {},
     "output_type": "display_data"
    }
   ],
   "source": [
    "chf_3 = chf_2.drop(chf_2[chf_2.systolic_bp >400].index)\n",
    "plt.hist(chf_3.systolic_bp)\n",
    "\n",
    "plt.xlabel('Systolic blood pressure')\n",
    "plt.ylabel('Number of patients')\n",
    "plt.title= ('Distribution of Systolic blood pressure among patient cohort')\n",
    "plt.show()\n",
    "plt.gcf().savefig('Systolic_histogram_clean.png')"
   ]
  },
  {
   "cell_type": "code",
   "execution_count": 17,
   "metadata": {
    "scrolled": true
   },
   "outputs": [
    {
     "data": {
      "text/plain": [
       "(3119, 11)"
      ]
     },
     "execution_count": 17,
     "metadata": {},
     "output_type": "execute_result"
    }
   ],
   "source": [
    "chf_3.shape\n",
    "# we are now down to 3144 rows in our dataset"
   ]
  },
  {
   "cell_type": "markdown",
   "metadata": {},
   "source": [
    "**Check distribution of diastolic blood pressure, set limits to remove manual error and remove them**"
   ]
  },
  {
   "cell_type": "code",
   "execution_count": 18,
   "metadata": {},
   "outputs": [
    {
     "data": {
      "image/png": "[encoded data removed]",
      "text/plain": [
       "<Figure size 432x288 with 1 Axes>"
      ]
     },
     "metadata": {
      "needs_background": "light"
     },
     "output_type": "display_data"
    },
    {
     "data": {
      "text/plain": [
       "<Figure size 432x288 with 0 Axes>"
      ]
     },
     "metadata": {},
     "output_type": "display_data"
    }
   ],
   "source": [
    "plt.hist(chf_3.diastolic_bp)\n",
    "plt.xlabel('Diastolic blood pressure')\n",
    "plt.ylabel('Number of patients')\n",
    "plt.title= ('Distribution of Diastolic blood pressure among patient cohort')\n",
    "plt.show()\n",
    "plt.gcf().savefig('diastolic_histogram_unclean.png')"
   ]
  },
  {
   "cell_type": "code",
   "execution_count": 19,
   "metadata": {
    "scrolled": false
   },
   "outputs": [
    {
     "data": {
      "image/png": "[encoded data removed]",
      "text/plain": [
       "<Figure size 432x288 with 1 Axes>"
      ]
     },
     "metadata": {
      "needs_background": "light"
     },
     "output_type": "display_data"
    },
    {
     "data": {
      "text/plain": [
       "<Figure size 432x288 with 0 Axes>"
      ]
     },
     "metadata": {},
     "output_type": "display_data"
    }
   ],
   "source": [
    "# remove manual error from diastolic_bp \n",
    "chf_4 = chf_3.drop(chf_3[chf_3.diastolic_bp >400].index)\n",
    "plt.hist(chf_4.diastolic_bp)\n",
    "plt.xlabel('Diastolic blood pressure')\n",
    "plt.ylabel('Number of patients')\n",
    "plt.title= ('Distribution of Diastolic blood pressure among patient cohort')\n",
    "plt.show()\n",
    "chf_4.shape\n",
    "plt.gcf().savefig('diastolic_histogram_clean.png')"
   ]
  },
  {
   "cell_type": "markdown",
   "metadata": {},
   "source": [
    "**Check Distribution of age, set limit , remove manual error datapoints**"
   ]
  },
  {
   "cell_type": "code",
   "execution_count": 20,
   "metadata": {},
   "outputs": [
    {
     "data": {
      "image/png": "[encoded data removed]",
      "text/plain": [
       "<Figure size 432x288 with 1 Axes>"
      ]
     },
     "metadata": {
      "needs_background": "light"
     },
     "output_type": "display_data"
    },
    {
     "data": {
      "text/plain": [
       "<Figure size 432x288 with 0 Axes>"
      ]
     },
     "metadata": {},
     "output_type": "display_data"
    }
   ],
   "source": [
    "plt.hist(chf_4.age)\n",
    "plt.xlabel('age')\n",
    "plt.ylabel('Number of patients')\n",
    "plt.title= ('Distribution of age among patient cohort')\n",
    "plt.show()\n",
    "plt.gcf().savefig('age_histogram_unclean.png')"
   ]
  },
  {
   "cell_type": "code",
   "execution_count": 21,
   "metadata": {
    "scrolled": true
   },
   "outputs": [
    {
     "data": {
      "image/png": "[encoded data removed]",
      "text/plain": [
       "<Figure size 432x288 with 1 Axes>"
      ]
     },
     "metadata": {
      "needs_background": "light"
     },
     "output_type": "display_data"
    },
    {
     "data": {
      "text/plain": [
       "<Figure size 432x288 with 0 Axes>"
      ]
     },
     "metadata": {},
     "output_type": "display_data"
    }
   ],
   "source": [
    "#removing unrealistic age \n",
    "chf_5 = chf_4.drop(chf_4[chf_4.age >120].index)\n",
    "plt.xlabel('age')\n",
    "plt.ylabel('Number of patients')\n",
    "plt.title= ('Distribution of age among patient cohort')\n",
    "plt.hist(chf_5.age)\n",
    "plt.show()\n",
    "plt.gcf().savefig('age_histogram_clean.png')"
   ]
  },
  {
   "cell_type": "markdown",
   "metadata": {},
   "source": [
    "\n",
    "\n",
    "\n",
    "## We have now our datafram chf_5 which is manual error free and ready for outlier detection with traditional method\n",
    "\n",
    "- Variables: Weight, Systolic blood pressure, Diastolic blood pressure"
   ]
  },
  {
   "cell_type": "code",
   "execution_count": 22,
   "metadata": {},
   "outputs": [],
   "source": [
    "from scipy.stats import norm\n",
    "import numpy as np"
   ]
  },
  {
   "cell_type": "code",
   "execution_count": 23,
   "metadata": {},
   "outputs": [],
   "source": [
    "# setting upper and lower limit of 3 standard deviation for weight\n",
    "UL_weight = chf_5.weight.mean() + (3 * chf_5.weight.std())\n",
    "LL_weight = chf_5.weight.mean() - (3 * chf_5.weight.std())\n",
    "# setting upper and lower limit of 3 Standard deviation for systilic blood pressure\n",
    "UL_systolic_bp = chf_5.systolic_bp.mean() + (3 * chf_5.systolic_bp.std())\n",
    "LL_systolic_bp = chf_5.systolic_bp.mean() - (3 * chf_5.systolic_bp.std())\n",
    "# setting upper and lower limit of 3 Standard Daviation for Diastolic blood pressure\n",
    "UL_diastolic_bp = chf_5.diastolic_bp.mean() + (3 * chf_5.diastolic_bp.std())\n",
    "LL_diastolic_bp = chf_5.diastolic_bp.mean() - (3 * chf_5.diastolic_bp.std())"
   ]
  },
  {
   "cell_type": "code",
   "execution_count": 24,
   "metadata": {},
   "outputs": [],
   "source": [
    "chf_3sd_removal =chf_5[(chf_5.weight >UL_weight) | (chf_5.weight < LL_weight)|(chf_5.systolic_bp > UL_systolic_bp) |(chf_5.systolic_bp < LL_systolic_bp)|(chf_5.diastolic_bp > UL_diastolic_bp) | (chf_5.diastolic_bp < LL_diastolic_bp)]"
   ]
  },
  {
   "cell_type": "code",
   "execution_count": 25,
   "metadata": {},
   "outputs": [
    {
     "data": {
      "text/plain": [
       "(82, 11)"
      ]
     },
     "execution_count": 25,
     "metadata": {},
     "output_type": "execute_result"
    }
   ],
   "source": [
    "chf_3sd_removal.shape\n",
    "# we found 114 patients who are dectected as outlier in our chf_5 database with 3sd method."
   ]
  },
  {
   "cell_type": "code",
   "execution_count": 26,
   "metadata": {},
   "outputs": [],
   "source": [
    "# This step will remove outlier and leave us with without outlier dataframe we will call df_1\n",
    "df_1=pd.concat([chf_5, chf_3sd_removal, chf_3sd_removal]).drop_duplicates(keep=False)"
   ]
  },
  {
   "cell_type": "code",
   "execution_count": 27,
   "metadata": {},
   "outputs": [
    {
     "name": "stdout",
     "output_type": "stream",
     "text": [
      "<class 'pandas.core.frame.DataFrame'>\n",
      "Int64Index: 2707 entries, 0 to 3153\n",
      "Data columns (total 11 columns):\n",
      " #   Column                  Non-Null Count  Dtype  \n",
      "---  ------                  --------------  -----  \n",
      " 0   person_id               2707 non-null   int64  \n",
      " 1   pathway1                2707 non-null   int64  \n",
      " 2   diastolic_bp            2707 non-null   float64\n",
      " 3   systolic_bp             2707 non-null   float64\n",
      " 4   age                     2707 non-null   int64  \n",
      " 5   gender                  2707 non-null   object \n",
      " 6   weight                  2707 non-null   float64\n",
      " 7   dead_alive              2707 non-null   int64  \n",
      " 8   diabetes_pathway        2707 non-null   int64  \n",
      " 9   hypertention_pathway    2707 non-null   int64  \n",
      " 10  hyperlipidemia_pathway  2707 non-null   int64  \n",
      "dtypes: float64(3), int64(7), object(1)\n",
      "memory usage: 253.8+ KB\n"
     ]
    },
    {
     "data": {
      "text/plain": [
       "(2707, 11)"
      ]
     },
     "execution_count": 27,
     "metadata": {},
     "output_type": "execute_result"
    }
   ],
   "source": [
    "df_1.info()\n",
    "df_1.isnull().any()\n",
    "df_1.shape"
   ]
  },
  {
   "cell_type": "markdown",
   "metadata": {},
   "source": [
    "### K-Medoids clustering methods to create clusters\n"
   ]
  },
  {
   "cell_type": "code",
   "execution_count": 28,
   "metadata": {},
   "outputs": [],
   "source": [
    "from sklearn.cluster import KMeans\n",
    "from scipy.spatial.distance import cdist\n",
    "from sklearn_extra.cluster import KMedoids"
   ]
  },
  {
   "cell_type": "code",
   "execution_count": 29,
   "metadata": {},
   "outputs": [
    {
     "data": {
      "text/plain": [
       "(2707, 9)"
      ]
     },
     "execution_count": 29,
     "metadata": {},
     "output_type": "execute_result"
    }
   ],
   "source": [
    "# included all numeric variable for this method\n",
    "# so we need extract those varaibles from our chf_5 datafram and create new datafram to pass in kemans method\n",
    "cl_df1 = pd.DataFrame().assign(cl_weight=df_1['weight'], cl_systolic_bp=df_1['systolic_bp'], cl_diastolic_bp =df_1['diastolic_bp'],cl_age=df_1['age'], cl_lisinopril=df_1['pathway1'], cl_dead_alive=df_1['dead_alive'], cl_diabetes=df_1['diabetes_pathway'], cl_hypertention=df_1['hypertention_pathway'],cl_hyperlipidemia=df_1['hyperlipidemia_pathway'] )\n",
    "cl_df1.head()\n",
    "cl_df1.isnull().any()\n",
    "cl_df1.shape\n",
    "\n"
   ]
  },
  {
   "cell_type": "code",
   "execution_count": 30,
   "metadata": {
    "scrolled": false
   },
   "outputs": [
    {
     "name": "stdout",
     "output_type": "stream",
     "text": [
      "[[ 0.27686077 -0.23198583 -0.75896039 ... -0.39101929 -1.20314537\n",
      "   1.01451239]\n",
      " [-1.28144373  0.7411131   0.11743328 ... -0.39101929  0.83115476\n",
      "   1.01451239]\n",
      " [-1.31854622  0.36684428 -0.04191102 ... -0.39101929  0.83115476\n",
      "  -0.98569521]\n",
      " ...\n",
      " [-1.59681488  0.47912493  1.0734991  ... -0.39101929  0.83115476\n",
      "  -0.98569521]\n",
      " [ 0.64603052  0.25456363  2.66694214 ... -0.39101929  0.83115476\n",
      "   1.01451239]\n",
      " [-0.91041885  0.29199051 -0.32076356 ... -0.39101929  0.83115476\n",
      "   1.01451239]]\n"
     ]
    },
    {
     "data": {
      "text/plain": [
       "(2707, 9)"
      ]
     },
     "execution_count": 30,
     "metadata": {},
     "output_type": "execute_result"
    }
   ],
   "source": [
    "# we need to scale data set so all data in similar range\n",
    "from sklearn.preprocessing import StandardScaler\n",
    "sc = StandardScaler()\n",
    "sc.fit(cl_df1)\n",
    "cl_df1_std = sc.transform(cl_df1)\n",
    "print(cl_df1_std)\n",
    "cl_df1_std.shape\n"
   ]
  },
  {
   "cell_type": "code",
   "execution_count": 31,
   "metadata": {},
   "outputs": [],
   "source": [
    "kmedoids = KMedoids(n_clusters=6, \n",
    "            method='alternate', \n",
    "            init='k-medoids++')\n",
    "\n"
   ]
  },
  {
   "cell_type": "code",
   "execution_count": 32,
   "metadata": {},
   "outputs": [
    {
     "name": "stdout",
     "output_type": "stream",
     "text": [
      "[5 5 2 ... 5 4 5]\n"
     ]
    },
    {
     "data": {
      "text/plain": [
       "2707"
      ]
     },
     "execution_count": 32,
     "metadata": {},
     "output_type": "execute_result"
    }
   ],
   "source": [
    "\n",
    "clusters = kmedoids.fit_predict(cl_df1_std)\n",
    "print(clusters)\n",
    "len(clusters)"
   ]
  },
  {
   "cell_type": "code",
   "execution_count": 33,
   "metadata": {
    "scrolled": true
   },
   "outputs": [
    {
     "data": {
      "image/png": "[encoded data removed]",
      "text/plain": [
       "<Figure size 432x288 with 1 Axes>"
      ]
     },
     "metadata": {
      "needs_background": "light"
     },
     "output_type": "display_data"
    },
    {
     "name": "stdout",
     "output_type": "stream",
     "text": [
      "[9226.783367491149, 8242.128883039104, 7474.058164391191, 7232.278805911815, 7118.233813405281, 6831.568328690057, 6635.697894284573, 6499.348128837424, 6510.546454058952, 6315.324446054483]\n"
     ]
    },
    {
     "data": {
      "text/plain": [
       "<Figure size 432x288 with 0 Axes>"
      ]
     },
     "metadata": {},
     "output_type": "display_data"
    }
   ],
   "source": [
    "# applied elbow method to find most efficient number of clusters\n",
    "distortions = []\n",
    "for i in range(1, 11):\n",
    "    km = KMedoids(n_clusters=i, \n",
    "                init='k-medoids++', \n",
    "                 method='alternate')\n",
    "    km.fit(cl_df1_std)\n",
    "    distortions.append(km.inertia_)\n",
    "plt.plot(range(1, 11), distortions, marker='o')\n",
    "plt.xlabel('Number of clusters')\n",
    "plt.ylabel('Distortion')\n",
    "plt.tight_layout()\n",
    "#plt.savefig('figures/10_03.png', dpi=300)\n",
    "plt.show()\n",
    "plt.gcf().savefig('Elbow_method.png')\n",
    "print(distortions)"
   ]
  },
  {
   "cell_type": "code",
   "execution_count": 34,
   "metadata": {
    "scrolled": false
   },
   "outputs": [],
   "source": [
    "df_1[\"clusters\"] = clusters\n"
   ]
  },
  {
   "cell_type": "code",
   "execution_count": 35,
   "metadata": {
    "scrolled": true
   },
   "outputs": [
    {
     "data": {
      "text/html": [
       "<div>\n",
       "<style scoped>\n",
       "    .dataframe tbody tr th:only-of-type {\n",
       "        vertical-align: middle;\n",
       "    }\n",
       "\n",
       "    .dataframe tbody tr th {\n",
       "        vertical-align: top;\n",
       "    }\n",
       "\n",
       "    .dataframe thead th {\n",
       "        text-align: right;\n",
       "    }\n",
       "</style>\n",
       "<table border=\"1\" class=\"dataframe\">\n",
       "  <thead>\n",
       "    <tr style=\"text-align: right;\">\n",
       "      <th></th>\n",
       "      <th>person_id</th>\n",
       "      <th>pathway1</th>\n",
       "      <th>diastolic_bp</th>\n",
       "      <th>systolic_bp</th>\n",
       "      <th>age</th>\n",
       "      <th>gender</th>\n",
       "      <th>weight</th>\n",
       "      <th>dead_alive</th>\n",
       "      <th>diabetes_pathway</th>\n",
       "      <th>hypertention_pathway</th>\n",
       "      <th>hyperlipidemia_pathway</th>\n",
       "      <th>clusters</th>\n",
       "    </tr>\n",
       "  </thead>\n",
       "  <tbody>\n",
       "    <tr>\n",
       "      <th>0</th>\n",
       "      <td>392775850</td>\n",
       "      <td>1</td>\n",
       "      <td>89.0</td>\n",
       "      <td>169.0</td>\n",
       "      <td>81</td>\n",
       "      <td>FEMALE</td>\n",
       "      <td>98.0</td>\n",
       "      <td>1</td>\n",
       "      <td>0</td>\n",
       "      <td>0</td>\n",
       "      <td>1</td>\n",
       "      <td>5</td>\n",
       "    </tr>\n",
       "    <tr>\n",
       "      <th>1</th>\n",
       "      <td>392775872</td>\n",
       "      <td>1</td>\n",
       "      <td>111.0</td>\n",
       "      <td>195.0</td>\n",
       "      <td>66</td>\n",
       "      <td>MALE</td>\n",
       "      <td>56.0</td>\n",
       "      <td>1</td>\n",
       "      <td>0</td>\n",
       "      <td>1</td>\n",
       "      <td>1</td>\n",
       "      <td>5</td>\n",
       "    </tr>\n",
       "    <tr>\n",
       "      <th>2</th>\n",
       "      <td>392775881</td>\n",
       "      <td>1</td>\n",
       "      <td>107.0</td>\n",
       "      <td>185.0</td>\n",
       "      <td>79</td>\n",
       "      <td>FEMALE</td>\n",
       "      <td>55.0</td>\n",
       "      <td>0</td>\n",
       "      <td>0</td>\n",
       "      <td>1</td>\n",
       "      <td>0</td>\n",
       "      <td>2</td>\n",
       "    </tr>\n",
       "    <tr>\n",
       "      <th>3</th>\n",
       "      <td>392775886</td>\n",
       "      <td>0</td>\n",
       "      <td>82.0</td>\n",
       "      <td>142.0</td>\n",
       "      <td>85</td>\n",
       "      <td>FEMALE</td>\n",
       "      <td>59.9</td>\n",
       "      <td>0</td>\n",
       "      <td>0</td>\n",
       "      <td>1</td>\n",
       "      <td>0</td>\n",
       "      <td>1</td>\n",
       "    </tr>\n",
       "    <tr>\n",
       "      <th>4</th>\n",
       "      <td>392775894</td>\n",
       "      <td>1</td>\n",
       "      <td>107.0</td>\n",
       "      <td>193.0</td>\n",
       "      <td>56</td>\n",
       "      <td>FEMALE</td>\n",
       "      <td>148.9</td>\n",
       "      <td>1</td>\n",
       "      <td>1</td>\n",
       "      <td>1</td>\n",
       "      <td>1</td>\n",
       "      <td>3</td>\n",
       "    </tr>\n",
       "  </tbody>\n",
       "</table>\n",
       "</div>"
      ],
      "text/plain": [
       "   person_id  pathway1  diastolic_bp  systolic_bp  age  gender  weight  \\\n",
       "0  392775850         1          89.0        169.0   81  FEMALE    98.0   \n",
       "1  392775872         1         111.0        195.0   66    MALE    56.0   \n",
       "2  392775881         1         107.0        185.0   79  FEMALE    55.0   \n",
       "3  392775886         0          82.0        142.0   85  FEMALE    59.9   \n",
       "4  392775894         1         107.0        193.0   56  FEMALE   148.9   \n",
       "\n",
       "   dead_alive  diabetes_pathway  hypertention_pathway  hyperlipidemia_pathway  \\\n",
       "0           1                 0                     0                       1   \n",
       "1           1                 0                     1                       1   \n",
       "2           0                 0                     1                       0   \n",
       "3           0                 0                     1                       0   \n",
       "4           1                 1                     1                       1   \n",
       "\n",
       "   clusters  \n",
       "0         5  \n",
       "1         5  \n",
       "2         2  \n",
       "3         1  \n",
       "4         3  "
      ]
     },
     "execution_count": 35,
     "metadata": {},
     "output_type": "execute_result"
    }
   ],
   "source": [
    "df_1.head()"
   ]
  },
  {
   "cell_type": "markdown",
   "metadata": {},
   "source": [
    "## Make Table#1 Summary"
   ]
  },
  {
   "cell_type": "code",
   "execution_count": 36,
   "metadata": {},
   "outputs": [
    {
     "data": {
      "text/html": [
       "<div>\n",
       "<style scoped>\n",
       "    .dataframe tbody tr th:only-of-type {\n",
       "        vertical-align: middle;\n",
       "    }\n",
       "\n",
       "    .dataframe tbody tr th {\n",
       "        vertical-align: top;\n",
       "    }\n",
       "\n",
       "    .dataframe thead th {\n",
       "        text-align: right;\n",
       "    }\n",
       "</style>\n",
       "<table border=\"1\" class=\"dataframe\">\n",
       "  <thead>\n",
       "    <tr style=\"text-align: right;\">\n",
       "      <th></th>\n",
       "      <th>count</th>\n",
       "    </tr>\n",
       "    <tr>\n",
       "      <th>clusters</th>\n",
       "      <th></th>\n",
       "    </tr>\n",
       "  </thead>\n",
       "  <tbody>\n",
       "    <tr>\n",
       "      <th>0</th>\n",
       "      <td>397</td>\n",
       "    </tr>\n",
       "    <tr>\n",
       "      <th>1</th>\n",
       "      <td>641</td>\n",
       "    </tr>\n",
       "    <tr>\n",
       "      <th>2</th>\n",
       "      <td>573</td>\n",
       "    </tr>\n",
       "    <tr>\n",
       "      <th>3</th>\n",
       "      <td>262</td>\n",
       "    </tr>\n",
       "    <tr>\n",
       "      <th>4</th>\n",
       "      <td>272</td>\n",
       "    </tr>\n",
       "    <tr>\n",
       "      <th>5</th>\n",
       "      <td>562</td>\n",
       "    </tr>\n",
       "  </tbody>\n",
       "</table>\n",
       "</div>"
      ],
      "text/plain": [
       "          count\n",
       "clusters       \n",
       "0           397\n",
       "1           641\n",
       "2           573\n",
       "3           262\n",
       "4           272\n",
       "5           562"
      ]
     },
     "execution_count": 36,
     "metadata": {},
     "output_type": "execute_result"
    }
   ],
   "source": [
    "df_1.groupby(['clusters'])['person_id'].agg(['count'])\n",
    "# this will give n value for each cluster"
   ]
  },
  {
   "cell_type": "code",
   "execution_count": 37,
   "metadata": {
    "scrolled": true
   },
   "outputs": [
    {
     "data": {
      "text/html": [
       "<div>\n",
       "<style scoped>\n",
       "    .dataframe tbody tr th:only-of-type {\n",
       "        vertical-align: middle;\n",
       "    }\n",
       "\n",
       "    .dataframe tbody tr th {\n",
       "        vertical-align: top;\n",
       "    }\n",
       "\n",
       "    .dataframe thead th {\n",
       "        text-align: right;\n",
       "    }\n",
       "</style>\n",
       "<table border=\"1\" class=\"dataframe\">\n",
       "  <thead>\n",
       "    <tr style=\"text-align: right;\">\n",
       "      <th></th>\n",
       "      <th></th>\n",
       "      <th>count</th>\n",
       "    </tr>\n",
       "    <tr>\n",
       "      <th>clusters</th>\n",
       "      <th>gender</th>\n",
       "      <th></th>\n",
       "    </tr>\n",
       "  </thead>\n",
       "  <tbody>\n",
       "    <tr>\n",
       "      <th rowspan=\"2\" valign=\"top\">0</th>\n",
       "      <th>FEMALE</th>\n",
       "      <td>174</td>\n",
       "    </tr>\n",
       "    <tr>\n",
       "      <th>MALE</th>\n",
       "      <td>223</td>\n",
       "    </tr>\n",
       "    <tr>\n",
       "      <th rowspan=\"2\" valign=\"top\">1</th>\n",
       "      <th>FEMALE</th>\n",
       "      <td>294</td>\n",
       "    </tr>\n",
       "    <tr>\n",
       "      <th>MALE</th>\n",
       "      <td>347</td>\n",
       "    </tr>\n",
       "    <tr>\n",
       "      <th rowspan=\"2\" valign=\"top\">2</th>\n",
       "      <th>FEMALE</th>\n",
       "      <td>256</td>\n",
       "    </tr>\n",
       "    <tr>\n",
       "      <th>MALE</th>\n",
       "      <td>317</td>\n",
       "    </tr>\n",
       "    <tr>\n",
       "      <th rowspan=\"2\" valign=\"top\">3</th>\n",
       "      <th>FEMALE</th>\n",
       "      <td>113</td>\n",
       "    </tr>\n",
       "    <tr>\n",
       "      <th>MALE</th>\n",
       "      <td>149</td>\n",
       "    </tr>\n",
       "    <tr>\n",
       "      <th rowspan=\"2\" valign=\"top\">4</th>\n",
       "      <th>FEMALE</th>\n",
       "      <td>131</td>\n",
       "    </tr>\n",
       "    <tr>\n",
       "      <th>MALE</th>\n",
       "      <td>141</td>\n",
       "    </tr>\n",
       "    <tr>\n",
       "      <th rowspan=\"2\" valign=\"top\">5</th>\n",
       "      <th>FEMALE</th>\n",
       "      <td>249</td>\n",
       "    </tr>\n",
       "    <tr>\n",
       "      <th>MALE</th>\n",
       "      <td>313</td>\n",
       "    </tr>\n",
       "  </tbody>\n",
       "</table>\n",
       "</div>"
      ],
      "text/plain": [
       "                 count\n",
       "clusters gender       \n",
       "0        FEMALE    174\n",
       "         MALE      223\n",
       "1        FEMALE    294\n",
       "         MALE      347\n",
       "2        FEMALE    256\n",
       "         MALE      317\n",
       "3        FEMALE    113\n",
       "         MALE      149\n",
       "4        FEMALE    131\n",
       "         MALE      141\n",
       "5        FEMALE    249\n",
       "         MALE      313"
      ]
     },
     "execution_count": 37,
     "metadata": {},
     "output_type": "execute_result"
    }
   ],
   "source": [
    "df_1.groupby(['clusters','gender'])['person_id'].agg(['count'])\n",
    "# this will give count by gender\n"
   ]
  },
  {
   "cell_type": "code",
   "execution_count": 38,
   "metadata": {
    "scrolled": false
   },
   "outputs": [
    {
     "name": "stderr",
     "output_type": "stream",
     "text": [
      "/Users/mansishah/opt/anaconda3/lib/python3.7/site-packages/ipykernel_launcher.py:1: FutureWarning: Indexing with multiple keys (implicitly converted to a tuple of keys) will be deprecated, use a list instead.\n",
      "  \"\"\"Entry point for launching an IPython kernel.\n"
     ]
    },
    {
     "data": {
      "text/html": [
       "<div>\n",
       "<style scoped>\n",
       "    .dataframe tbody tr th:only-of-type {\n",
       "        vertical-align: middle;\n",
       "    }\n",
       "\n",
       "    .dataframe tbody tr th {\n",
       "        vertical-align: top;\n",
       "    }\n",
       "\n",
       "    .dataframe thead tr th {\n",
       "        text-align: left;\n",
       "    }\n",
       "\n",
       "    .dataframe thead tr:last-of-type th {\n",
       "        text-align: right;\n",
       "    }\n",
       "</style>\n",
       "<table border=\"1\" class=\"dataframe\">\n",
       "  <thead>\n",
       "    <tr>\n",
       "      <th></th>\n",
       "      <th colspan=\"2\" halign=\"left\">diastolic_bp</th>\n",
       "      <th colspan=\"2\" halign=\"left\">systolic_bp</th>\n",
       "      <th colspan=\"2\" halign=\"left\">weight</th>\n",
       "    </tr>\n",
       "    <tr>\n",
       "      <th></th>\n",
       "      <th>mean</th>\n",
       "      <th>std</th>\n",
       "      <th>mean</th>\n",
       "      <th>std</th>\n",
       "      <th>mean</th>\n",
       "      <th>std</th>\n",
       "    </tr>\n",
       "    <tr>\n",
       "      <th>clusters</th>\n",
       "      <th></th>\n",
       "      <th></th>\n",
       "      <th></th>\n",
       "      <th></th>\n",
       "      <th></th>\n",
       "      <th></th>\n",
       "    </tr>\n",
       "  </thead>\n",
       "  <tbody>\n",
       "    <tr>\n",
       "      <th>0</th>\n",
       "      <td>99.662469</td>\n",
       "      <td>17.529108</td>\n",
       "      <td>166.919395</td>\n",
       "      <td>23.893990</td>\n",
       "      <td>91.404383</td>\n",
       "      <td>27.089813</td>\n",
       "    </tr>\n",
       "    <tr>\n",
       "      <th>1</th>\n",
       "      <td>102.951638</td>\n",
       "      <td>19.746103</td>\n",
       "      <td>172.341654</td>\n",
       "      <td>24.487311</td>\n",
       "      <td>88.581622</td>\n",
       "      <td>25.574660</td>\n",
       "    </tr>\n",
       "    <tr>\n",
       "      <th>2</th>\n",
       "      <td>108.308901</td>\n",
       "      <td>24.648236</td>\n",
       "      <td>176.776614</td>\n",
       "      <td>27.062393</td>\n",
       "      <td>85.060558</td>\n",
       "      <td>23.415763</td>\n",
       "    </tr>\n",
       "    <tr>\n",
       "      <th>3</th>\n",
       "      <td>108.229008</td>\n",
       "      <td>22.881860</td>\n",
       "      <td>182.022901</td>\n",
       "      <td>24.729794</td>\n",
       "      <td>96.506145</td>\n",
       "      <td>28.884489</td>\n",
       "    </tr>\n",
       "    <tr>\n",
       "      <th>4</th>\n",
       "      <td>145.500000</td>\n",
       "      <td>27.735972</td>\n",
       "      <td>200.602941</td>\n",
       "      <td>23.075931</td>\n",
       "      <td>109.508346</td>\n",
       "      <td>34.864242</td>\n",
       "    </tr>\n",
       "    <tr>\n",
       "      <th>5</th>\n",
       "      <td>101.327402</td>\n",
       "      <td>18.425055</td>\n",
       "      <td>167.218861</td>\n",
       "      <td>24.705541</td>\n",
       "      <td>85.778078</td>\n",
       "      <td>21.385097</td>\n",
       "    </tr>\n",
       "  </tbody>\n",
       "</table>\n",
       "</div>"
      ],
      "text/plain": [
       "         diastolic_bp            systolic_bp                 weight           \n",
       "                 mean        std        mean        std        mean        std\n",
       "clusters                                                                      \n",
       "0           99.662469  17.529108  166.919395  23.893990   91.404383  27.089813\n",
       "1          102.951638  19.746103  172.341654  24.487311   88.581622  25.574660\n",
       "2          108.308901  24.648236  176.776614  27.062393   85.060558  23.415763\n",
       "3          108.229008  22.881860  182.022901  24.729794   96.506145  28.884489\n",
       "4          145.500000  27.735972  200.602941  23.075931  109.508346  34.864242\n",
       "5          101.327402  18.425055  167.218861  24.705541   85.778078  21.385097"
      ]
     },
     "execution_count": 38,
     "metadata": {},
     "output_type": "execute_result"
    }
   ],
   "source": [
    "df_1.groupby(['clusters'])['diastolic_bp','systolic_bp','weight'].agg(['mean','std'])\n"
   ]
  },
  {
   "cell_type": "code",
   "execution_count": 39,
   "metadata": {},
   "outputs": [
    {
     "data": {
      "text/html": [
       "<div>\n",
       "<style scoped>\n",
       "    .dataframe tbody tr th:only-of-type {\n",
       "        vertical-align: middle;\n",
       "    }\n",
       "\n",
       "    .dataframe tbody tr th {\n",
       "        vertical-align: top;\n",
       "    }\n",
       "\n",
       "    .dataframe thead tr th {\n",
       "        text-align: left;\n",
       "    }\n",
       "\n",
       "    .dataframe thead tr:last-of-type th {\n",
       "        text-align: right;\n",
       "    }\n",
       "</style>\n",
       "<table border=\"1\" class=\"dataframe\">\n",
       "  <thead>\n",
       "    <tr>\n",
       "      <th></th>\n",
       "      <th></th>\n",
       "      <th></th>\n",
       "      <th></th>\n",
       "      <th colspan=\"2\" halign=\"left\">person_id</th>\n",
       "      <th colspan=\"2\" halign=\"left\">pathway1</th>\n",
       "      <th colspan=\"2\" halign=\"left\">age</th>\n",
       "      <th colspan=\"2\" halign=\"left\">dead_alive</th>\n",
       "      <th colspan=\"2\" halign=\"left\">diabetes_pathway</th>\n",
       "      <th colspan=\"2\" halign=\"left\">hypertention_pathway</th>\n",
       "      <th colspan=\"2\" halign=\"left\">hyperlipidemia_pathway</th>\n",
       "    </tr>\n",
       "    <tr>\n",
       "      <th></th>\n",
       "      <th></th>\n",
       "      <th></th>\n",
       "      <th></th>\n",
       "      <th>mean</th>\n",
       "      <th>std</th>\n",
       "      <th>mean</th>\n",
       "      <th>std</th>\n",
       "      <th>mean</th>\n",
       "      <th>std</th>\n",
       "      <th>mean</th>\n",
       "      <th>std</th>\n",
       "      <th>mean</th>\n",
       "      <th>std</th>\n",
       "      <th>mean</th>\n",
       "      <th>std</th>\n",
       "      <th>mean</th>\n",
       "      <th>std</th>\n",
       "    </tr>\n",
       "    <tr>\n",
       "      <th>clusters</th>\n",
       "      <th>diastolic_bp</th>\n",
       "      <th>systolic_bp</th>\n",
       "      <th>weight</th>\n",
       "      <th></th>\n",
       "      <th></th>\n",
       "      <th></th>\n",
       "      <th></th>\n",
       "      <th></th>\n",
       "      <th></th>\n",
       "      <th></th>\n",
       "      <th></th>\n",
       "      <th></th>\n",
       "      <th></th>\n",
       "      <th></th>\n",
       "      <th></th>\n",
       "      <th></th>\n",
       "      <th></th>\n",
       "    </tr>\n",
       "  </thead>\n",
       "  <tbody>\n",
       "    <tr>\n",
       "      <th rowspan=\"5\" valign=\"top\">0</th>\n",
       "      <th>55.0</th>\n",
       "      <th>121.0</th>\n",
       "      <th>55.4</th>\n",
       "      <td>392808555</td>\n",
       "      <td>NaN</td>\n",
       "      <td>0</td>\n",
       "      <td>NaN</td>\n",
       "      <td>78</td>\n",
       "      <td>NaN</td>\n",
       "      <td>1</td>\n",
       "      <td>NaN</td>\n",
       "      <td>1</td>\n",
       "      <td>NaN</td>\n",
       "      <td>0</td>\n",
       "      <td>NaN</td>\n",
       "      <td>0</td>\n",
       "      <td>NaN</td>\n",
       "    </tr>\n",
       "    <tr>\n",
       "      <th>64.0</th>\n",
       "      <th>114.0</th>\n",
       "      <th>110.3</th>\n",
       "      <td>392786402</td>\n",
       "      <td>NaN</td>\n",
       "      <td>0</td>\n",
       "      <td>NaN</td>\n",
       "      <td>57</td>\n",
       "      <td>NaN</td>\n",
       "      <td>1</td>\n",
       "      <td>NaN</td>\n",
       "      <td>0</td>\n",
       "      <td>NaN</td>\n",
       "      <td>0</td>\n",
       "      <td>NaN</td>\n",
       "      <td>0</td>\n",
       "      <td>NaN</td>\n",
       "    </tr>\n",
       "    <tr>\n",
       "      <th>67.0</th>\n",
       "      <th>150.0</th>\n",
       "      <th>85.3</th>\n",
       "      <td>392788113</td>\n",
       "      <td>NaN</td>\n",
       "      <td>0</td>\n",
       "      <td>NaN</td>\n",
       "      <td>69</td>\n",
       "      <td>NaN</td>\n",
       "      <td>0</td>\n",
       "      <td>NaN</td>\n",
       "      <td>0</td>\n",
       "      <td>NaN</td>\n",
       "      <td>0</td>\n",
       "      <td>NaN</td>\n",
       "      <td>0</td>\n",
       "      <td>NaN</td>\n",
       "    </tr>\n",
       "    <tr>\n",
       "      <th rowspan=\"2\" valign=\"top\">70.0</th>\n",
       "      <th>117.0</th>\n",
       "      <th>85.0</th>\n",
       "      <td>392800401</td>\n",
       "      <td>NaN</td>\n",
       "      <td>0</td>\n",
       "      <td>NaN</td>\n",
       "      <td>68</td>\n",
       "      <td>NaN</td>\n",
       "      <td>1</td>\n",
       "      <td>NaN</td>\n",
       "      <td>0</td>\n",
       "      <td>NaN</td>\n",
       "      <td>0</td>\n",
       "      <td>NaN</td>\n",
       "      <td>0</td>\n",
       "      <td>NaN</td>\n",
       "    </tr>\n",
       "    <tr>\n",
       "      <th>148.0</th>\n",
       "      <th>89.3</th>\n",
       "      <td>392818229</td>\n",
       "      <td>NaN</td>\n",
       "      <td>0</td>\n",
       "      <td>NaN</td>\n",
       "      <td>61</td>\n",
       "      <td>NaN</td>\n",
       "      <td>0</td>\n",
       "      <td>NaN</td>\n",
       "      <td>0</td>\n",
       "      <td>NaN</td>\n",
       "      <td>0</td>\n",
       "      <td>NaN</td>\n",
       "      <td>0</td>\n",
       "      <td>NaN</td>\n",
       "    </tr>\n",
       "    <tr>\n",
       "      <th>...</th>\n",
       "      <th>...</th>\n",
       "      <th>...</th>\n",
       "      <th>...</th>\n",
       "      <td>...</td>\n",
       "      <td>...</td>\n",
       "      <td>...</td>\n",
       "      <td>...</td>\n",
       "      <td>...</td>\n",
       "      <td>...</td>\n",
       "      <td>...</td>\n",
       "      <td>...</td>\n",
       "      <td>...</td>\n",
       "      <td>...</td>\n",
       "      <td>...</td>\n",
       "      <td>...</td>\n",
       "      <td>...</td>\n",
       "      <td>...</td>\n",
       "    </tr>\n",
       "    <tr>\n",
       "      <th rowspan=\"5\" valign=\"top\">5</th>\n",
       "      <th>151.0</th>\n",
       "      <th>231.0</th>\n",
       "      <th>67.0</th>\n",
       "      <td>392790277</td>\n",
       "      <td>NaN</td>\n",
       "      <td>1</td>\n",
       "      <td>NaN</td>\n",
       "      <td>82</td>\n",
       "      <td>NaN</td>\n",
       "      <td>1</td>\n",
       "      <td>NaN</td>\n",
       "      <td>0</td>\n",
       "      <td>NaN</td>\n",
       "      <td>1</td>\n",
       "      <td>NaN</td>\n",
       "      <td>1</td>\n",
       "      <td>NaN</td>\n",
       "    </tr>\n",
       "    <tr>\n",
       "      <th>153.0</th>\n",
       "      <th>190.0</th>\n",
       "      <th>90.7</th>\n",
       "      <td>392820593</td>\n",
       "      <td>NaN</td>\n",
       "      <td>1</td>\n",
       "      <td>NaN</td>\n",
       "      <td>76</td>\n",
       "      <td>NaN</td>\n",
       "      <td>1</td>\n",
       "      <td>NaN</td>\n",
       "      <td>0</td>\n",
       "      <td>NaN</td>\n",
       "      <td>1</td>\n",
       "      <td>NaN</td>\n",
       "      <td>1</td>\n",
       "      <td>NaN</td>\n",
       "    </tr>\n",
       "    <tr>\n",
       "      <th>156.0</th>\n",
       "      <th>176.0</th>\n",
       "      <th>55.0</th>\n",
       "      <td>392816773</td>\n",
       "      <td>NaN</td>\n",
       "      <td>1</td>\n",
       "      <td>NaN</td>\n",
       "      <td>80</td>\n",
       "      <td>NaN</td>\n",
       "      <td>1</td>\n",
       "      <td>NaN</td>\n",
       "      <td>0</td>\n",
       "      <td>NaN</td>\n",
       "      <td>1</td>\n",
       "      <td>NaN</td>\n",
       "      <td>1</td>\n",
       "      <td>NaN</td>\n",
       "    </tr>\n",
       "    <tr>\n",
       "      <th>160.0</th>\n",
       "      <th>166.0</th>\n",
       "      <th>91.5</th>\n",
       "      <td>392788823</td>\n",
       "      <td>NaN</td>\n",
       "      <td>1</td>\n",
       "      <td>NaN</td>\n",
       "      <td>72</td>\n",
       "      <td>NaN</td>\n",
       "      <td>0</td>\n",
       "      <td>NaN</td>\n",
       "      <td>0</td>\n",
       "      <td>NaN</td>\n",
       "      <td>1</td>\n",
       "      <td>NaN</td>\n",
       "      <td>1</td>\n",
       "      <td>NaN</td>\n",
       "    </tr>\n",
       "    <tr>\n",
       "      <th>164.0</th>\n",
       "      <th>175.0</th>\n",
       "      <th>40.0</th>\n",
       "      <td>392802817</td>\n",
       "      <td>NaN</td>\n",
       "      <td>1</td>\n",
       "      <td>NaN</td>\n",
       "      <td>73</td>\n",
       "      <td>NaN</td>\n",
       "      <td>1</td>\n",
       "      <td>NaN</td>\n",
       "      <td>0</td>\n",
       "      <td>NaN</td>\n",
       "      <td>0</td>\n",
       "      <td>NaN</td>\n",
       "      <td>1</td>\n",
       "      <td>NaN</td>\n",
       "    </tr>\n",
       "  </tbody>\n",
       "</table>\n",
       "<p>2707 rows × 14 columns</p>\n",
       "</div>"
      ],
      "text/plain": [
       "                                          person_id     pathway1      age      \\\n",
       "                                               mean std     mean std mean std   \n",
       "clusters diastolic_bp systolic_bp weight                                        \n",
       "0        55.0         121.0       55.4    392808555 NaN        0 NaN   78 NaN   \n",
       "         64.0         114.0       110.3   392786402 NaN        0 NaN   57 NaN   \n",
       "         67.0         150.0       85.3    392788113 NaN        0 NaN   69 NaN   \n",
       "         70.0         117.0       85.0    392800401 NaN        0 NaN   68 NaN   \n",
       "                      148.0       89.3    392818229 NaN        0 NaN   61 NaN   \n",
       "...                                             ...  ..      ...  ..  ...  ..   \n",
       "5        151.0        231.0       67.0    392790277 NaN        1 NaN   82 NaN   \n",
       "         153.0        190.0       90.7    392820593 NaN        1 NaN   76 NaN   \n",
       "         156.0        176.0       55.0    392816773 NaN        1 NaN   80 NaN   \n",
       "         160.0        166.0       91.5    392788823 NaN        1 NaN   72 NaN   \n",
       "         164.0        175.0       40.0    392802817 NaN        1 NaN   73 NaN   \n",
       "\n",
       "                                         dead_alive     diabetes_pathway      \\\n",
       "                                               mean std             mean std   \n",
       "clusters diastolic_bp systolic_bp weight                                       \n",
       "0        55.0         121.0       55.4            1 NaN                1 NaN   \n",
       "         64.0         114.0       110.3           1 NaN                0 NaN   \n",
       "         67.0         150.0       85.3            0 NaN                0 NaN   \n",
       "         70.0         117.0       85.0            1 NaN                0 NaN   \n",
       "                      148.0       89.3            0 NaN                0 NaN   \n",
       "...                                             ...  ..              ...  ..   \n",
       "5        151.0        231.0       67.0            1 NaN                0 NaN   \n",
       "         153.0        190.0       90.7            1 NaN                0 NaN   \n",
       "         156.0        176.0       55.0            1 NaN                0 NaN   \n",
       "         160.0        166.0       91.5            0 NaN                0 NaN   \n",
       "         164.0        175.0       40.0            1 NaN                0 NaN   \n",
       "\n",
       "                                         hypertention_pathway      \\\n",
       "                                                         mean std   \n",
       "clusters diastolic_bp systolic_bp weight                            \n",
       "0        55.0         121.0       55.4                      0 NaN   \n",
       "         64.0         114.0       110.3                     0 NaN   \n",
       "         67.0         150.0       85.3                      0 NaN   \n",
       "         70.0         117.0       85.0                      0 NaN   \n",
       "                      148.0       89.3                      0 NaN   \n",
       "...                                                       ...  ..   \n",
       "5        151.0        231.0       67.0                      1 NaN   \n",
       "         153.0        190.0       90.7                      1 NaN   \n",
       "         156.0        176.0       55.0                      1 NaN   \n",
       "         160.0        166.0       91.5                      1 NaN   \n",
       "         164.0        175.0       40.0                      0 NaN   \n",
       "\n",
       "                                         hyperlipidemia_pathway      \n",
       "                                                           mean std  \n",
       "clusters diastolic_bp systolic_bp weight                             \n",
       "0        55.0         121.0       55.4                        0 NaN  \n",
       "         64.0         114.0       110.3                       0 NaN  \n",
       "         67.0         150.0       85.3                        0 NaN  \n",
       "         70.0         117.0       85.0                        0 NaN  \n",
       "                      148.0       89.3                        0 NaN  \n",
       "...                                                         ...  ..  \n",
       "5        151.0        231.0       67.0                        1 NaN  \n",
       "         153.0        190.0       90.7                        1 NaN  \n",
       "         156.0        176.0       55.0                        1 NaN  \n",
       "         160.0        166.0       91.5                        1 NaN  \n",
       "         164.0        175.0       40.0                        1 NaN  \n",
       "\n",
       "[2707 rows x 14 columns]"
      ]
     },
     "execution_count": 39,
     "metadata": {},
     "output_type": "execute_result"
    }
   ],
   "source": [
    "df_1.groupby(['clusters','diastolic_bp','systolic_bp','weight']).agg(['mean','std'])"
   ]
  },
  {
   "cell_type": "markdown",
   "metadata": {},
   "source": [
    "### Agreegating comorbidity columns for comparision"
   ]
  },
  {
   "cell_type": "code",
   "execution_count": 40,
   "metadata": {
    "scrolled": false
   },
   "outputs": [
    {
     "name": "stdout",
     "output_type": "stream",
     "text": [
      "    clusters  pathway1  count  Percent_of_total_population\n",
      "0          0         0    355                    13.114149\n",
      "1          0         1     42                     1.551533\n",
      "2          1         0    523                    19.320281\n",
      "3          1         1    118                     4.359069\n",
      "4          2         0    169                     6.243074\n",
      "5          2         1    404                    14.924270\n",
      "6          3         0    152                     5.615072\n",
      "7          3         1    110                     4.063539\n",
      "8          4         0    180                     6.649427\n",
      "9          4         1     92                     3.398596\n",
      "10         5         0     63                     2.327300\n",
      "11         5         1    499                    18.433690\n"
     ]
    },
    {
     "data": {
      "image/png": "[encoded data removed]",
      "text/plain": [
       "<Figure size 432x288 with 1 Axes>"
      ]
     },
     "metadata": {
      "needs_background": "light"
     },
     "output_type": "display_data"
    }
   ],
   "source": [
    "lisinopril_count=df_1.groupby(['clusters','pathway1'])['pathway1'].agg(['count']).reset_index()\n",
    "\n",
    "lisinopril_count['Percent_of_total_population'] = 100 * lisinopril_count['count'] / lisinopril_count['count'].sum()\n",
    "print(lisinopril_count)\n",
    "ax = sns.barplot(x=\"clusters\", y=\"Percent_of_total_population\", data=lisinopril_count,hue=\"pathway1\")\n",
    "\n"
   ]
  },
  {
   "cell_type": "code",
   "execution_count": 41,
   "metadata": {
    "scrolled": false
   },
   "outputs": [
    {
     "name": "stdout",
     "output_type": "stream",
     "text": [
      "    clusters  dead_alive  count  Percent_of_total_population\n",
      "0          0           0    127                     4.691540\n",
      "1          0           1    270                     9.974141\n",
      "2          1           0    580                    21.425933\n",
      "3          1           1     61                     2.253417\n",
      "4          2           0    547                    20.206871\n",
      "5          2           1     26                     0.960473\n",
      "6          3           0    183                     6.760251\n",
      "7          3           1     79                     2.918360\n",
      "8          4           0     82                     3.029184\n",
      "9          4           1    190                     7.018840\n",
      "10         5           0     75                     2.770595\n",
      "11         5           1    487                    17.990395\n"
     ]
    },
    {
     "data": {
      "image/png": "[encoded data removed]",
      "text/plain": [
       "<Figure size 432x288 with 1 Axes>"
      ]
     },
     "metadata": {
      "needs_background": "light"
     },
     "output_type": "display_data"
    }
   ],
   "source": [
    "Alive_count=df_1.groupby(['clusters','dead_alive'])['dead_alive'].agg(['count']).reset_index()\n",
    "Alive_count['Percent_of_total_population'] = 100 * Alive_count['count'] / Alive_count['count'].sum()\n",
    "print(Alive_count)\n",
    "ax = sns.barplot(x=\"clusters\", y=\"Percent_of_total_population\", data=Alive_count,hue=\"dead_alive\")\n",
    "plt.gcf().savefig('try.png')"
   ]
  },
  {
   "cell_type": "code",
   "execution_count": 42,
   "metadata": {},
   "outputs": [
    {
     "name": "stdout",
     "output_type": "stream",
     "text": [
      "    clusters  diabetes_pathway  count  Percent_of_total_population\n",
      "0          0                 0    381                    14.074621\n",
      "1          0                 1     16                     0.591060\n",
      "2          1                 0    641                    23.679350\n",
      "3          2                 0    555                    20.502401\n",
      "4          2                 1     18                     0.664943\n",
      "5          3                 0      1                     0.036941\n",
      "6          3                 1    261                     9.641670\n",
      "7          4                 0    257                     9.493905\n",
      "8          4                 1     15                     0.554119\n",
      "9          5                 0    513                    18.950868\n",
      "10         5                 1     49                     1.810122\n"
     ]
    },
    {
     "data": {
      "image/png": "[encoded data removed]",
      "text/plain": [
       "<Figure size 432x288 with 1 Axes>"
      ]
     },
     "metadata": {
      "needs_background": "light"
     },
     "output_type": "display_data"
    }
   ],
   "source": [
    "diabetes_count=df_1.groupby(['clusters','diabetes_pathway'])['diabetes_pathway'].agg(['count']).reset_index()\n",
    "diabetes_count['Percent_of_total_population'] = 100 * diabetes_count['count'] / diabetes_count['count'].sum()\n",
    "print(diabetes_count)\n",
    "ax = sns.barplot(x=\"clusters\", y=\"Percent_of_total_population\", data=diabetes_count,hue=\"diabetes_pathway\")\n"
   ]
  },
  {
   "cell_type": "code",
   "execution_count": 43,
   "metadata": {
    "scrolled": true
   },
   "outputs": [
    {
     "name": "stdout",
     "output_type": "stream",
     "text": [
      "    clusters  hypertention_pathway  count  Percent_of_total_population\n",
      "0          0                     0    330                    12.190617\n",
      "1          0                     1     67                     2.475065\n",
      "2          1                     0    112                     4.137421\n",
      "3          1                     1    529                    19.541928\n",
      "4          2                     0    418                    15.441448\n",
      "5          2                     1    155                     5.725896\n",
      "6          3                     0    103                     3.804950\n",
      "7          3                     1    159                     5.873661\n",
      "8          4                     0     52                     1.920946\n",
      "9          4                     1    220                     8.127078\n",
      "10         5                     0     91                     3.361655\n",
      "11         5                     1    471                    17.399335\n"
     ]
    },
    {
     "data": {
      "image/png": "[encoded data removed]",
      "text/plain": [
       "<Figure size 432x288 with 1 Axes>"
      ]
     },
     "metadata": {
      "needs_background": "light"
     },
     "output_type": "display_data"
    }
   ],
   "source": [
    "hypertention_count=df_1.groupby(['clusters','hypertention_pathway'])['hypertention_pathway'].agg(['count']).reset_index()\n",
    "hypertention_count['Percent_of_total_population'] = 100 * hypertention_count['count'] / hypertention_count['count'].sum()\n",
    "print(hypertention_count)\n",
    "ax = sns.barplot(x=\"clusters\", y=\"Percent_of_total_population\", data=hypertention_count,hue=\"hypertention_pathway\")\n"
   ]
  },
  {
   "cell_type": "code",
   "execution_count": 44,
   "metadata": {
    "scrolled": false
   },
   "outputs": [
    {
     "name": "stdout",
     "output_type": "stream",
     "text": [
      "    clusters  hyperlipidemia_pathway  count  Percent_of_total_population\n",
      "0          0                       0    329                    12.153676\n",
      "1          0                       1     68                     2.512006\n",
      "2          1                       0    227                     8.385667\n",
      "3          1                       1    414                    15.293683\n",
      "4          2                       0    489                    18.064278\n",
      "5          2                       1     84                     3.103066\n",
      "6          3                       0    139                     5.134836\n",
      "7          3                       1    123                     4.543775\n",
      "8          4                       0     84                     3.103066\n",
      "9          4                       1    188                     6.944958\n",
      "10         5                       0    105                     3.878833\n",
      "11         5                       1    457                    16.882157\n"
     ]
    },
    {
     "data": {
      "image/png": "[encoded data removed]",
      "text/plain": [
       "<Figure size 432x288 with 1 Axes>"
      ]
     },
     "metadata": {
      "needs_background": "light"
     },
     "output_type": "display_data"
    }
   ],
   "source": [
    "hyperlipidemia_count=df_1.groupby(['clusters','hyperlipidemia_pathway'])['hyperlipidemia_pathway'].agg(['count']).reset_index()\n",
    "\n",
    "hyperlipidemia_count['Percent_of_total_population'] = 100 * hyperlipidemia_count['count'] / hyperlipidemia_count['count'].sum()\n",
    "print(hyperlipidemia_count)\n",
    "ax = sns.barplot(x=\"clusters\", y=\"Percent_of_total_population\", data=hyperlipidemia_count,hue=\"hyperlipidemia_pathway\")\n",
    "\n"
   ]
  },
  {
   "cell_type": "markdown",
   "metadata": {},
   "source": [
    "\n",
    "## Logistric Regression "
   ]
  },
  {
   "cell_type": "code",
   "execution_count": 45,
   "metadata": {},
   "outputs": [],
   "source": [
    "# LOGISTIC REGRESSION - HOW DATASET LOOKS LIKE "
   ]
  },
  {
   "cell_type": "code",
   "execution_count": 46,
   "metadata": {},
   "outputs": [
    {
     "data": {
      "text/plain": [
       "pandas.core.frame.DataFrame"
      ]
     },
     "execution_count": 46,
     "metadata": {},
     "output_type": "execute_result"
    }
   ],
   "source": [
    "type(df_1)"
   ]
  },
  {
   "cell_type": "code",
   "execution_count": 47,
   "metadata": {},
   "outputs": [
    {
     "data": {
      "text/plain": [
       "Index(['person_id', 'pathway1', 'diastolic_bp', 'systolic_bp', 'age', 'gender',\n",
       "       'weight', 'dead_alive', 'diabetes_pathway', 'hypertention_pathway',\n",
       "       'hyperlipidemia_pathway', 'clusters'],\n",
       "      dtype='object')"
      ]
     },
     "execution_count": 47,
     "metadata": {},
     "output_type": "execute_result"
    }
   ],
   "source": [
    "df_1.columns"
   ]
  },
  {
   "cell_type": "code",
   "execution_count": 48,
   "metadata": {},
   "outputs": [
    {
     "name": "stdout",
     "output_type": "stream",
     "text": [
      "0=without the condition ; 1=with the condition\n",
      "0    2348\n",
      "1     359\n",
      "Name: diabetes_pathway, dtype: int64\n",
      "0    1373\n",
      "1    1334\n",
      "Name: hyperlipidemia_pathway, dtype: int64\n",
      "1    1601\n",
      "0    1106\n",
      "Name: hypertention_pathway, dtype: int64\n"
     ]
    }
   ],
   "source": [
    "print('0=without the condition ; 1=with the condition')\n",
    "print(df_1['diabetes_pathway'].value_counts()) \n",
    "print(df_1['hyperlipidemia_pathway'].value_counts())\n",
    "print(df_1['hypertention_pathway'].value_counts())"
   ]
  },
  {
   "cell_type": "code",
   "execution_count": 49,
   "metadata": {},
   "outputs": [],
   "source": [
    "# Visualization of few data points "
   ]
  },
  {
   "cell_type": "code",
   "execution_count": 50,
   "metadata": {},
   "outputs": [
    {
     "data": {
      "text/plain": [
       "Text(0, 0.5, 'number of patients')"
      ]
     },
     "execution_count": 50,
     "metadata": {},
     "output_type": "execute_result"
    },
    {
     "data": {
      "image/png": "[encoded data removed]",
      "text/plain": [
       "<Figure size 432x288 with 1 Axes>"
      ]
     },
     "metadata": {
      "needs_background": "light"
     },
     "output_type": "display_data"
    }
   ],
   "source": [
    "# below visualization shows patients with annd withoout diabetes based on gender \n",
    "%matplotlib inline\n",
    "pd.crosstab(df_1.gender,df_1.diabetes_pathway).plot(kind='bar')\n",
    "plt.xlabel('gender')\n",
    "plt.ylabel('number of patients')"
   ]
  },
  {
   "cell_type": "code",
   "execution_count": 51,
   "metadata": {},
   "outputs": [
    {
     "data": {
      "text/plain": [
       "Text(0, 0.5, 'number of patients')"
      ]
     },
     "execution_count": 51,
     "metadata": {},
     "output_type": "execute_result"
    },
    {
     "data": {
      "image/png": "[encoded data removed]",
      "text/plain": [
       "<Figure size 432x288 with 1 Axes>"
      ]
     },
     "metadata": {
      "needs_background": "light"
     },
     "output_type": "display_data"
    }
   ],
   "source": [
    "# below visualization shows patients with annd withoout hyperlipidemia based on gender \n",
    "%matplotlib inline\n",
    "pd.crosstab(df_1.gender,df_1.hyperlipidemia_pathway).plot(kind='bar')\n",
    "plt.xlabel('gender')\n",
    "plt.ylabel('number of patients')"
   ]
  },
  {
   "cell_type": "code",
   "execution_count": 52,
   "metadata": {},
   "outputs": [
    {
     "data": {
      "text/plain": [
       "Text(0, 0.5, 'number of patients')"
      ]
     },
     "execution_count": 52,
     "metadata": {},
     "output_type": "execute_result"
    },
    {
     "data": {
      "image/png": "[encoded data removed]",
      "text/plain": [
       "<Figure size 432x288 with 1 Axes>"
      ]
     },
     "metadata": {
      "needs_background": "light"
     },
     "output_type": "display_data"
    }
   ],
   "source": [
    "# below visualization shows patients with and withoout hypertention based on gender \n",
    "%matplotlib inline\n",
    "pd.crosstab(df_1.gender,df_1.hypertention_pathway).plot(kind='bar')\n",
    "plt.xlabel('gender')\n",
    "plt.ylabel('number of patients')"
   ]
  },
  {
   "cell_type": "code",
   "execution_count": 53,
   "metadata": {
    "scrolled": true
   },
   "outputs": [
    {
     "data": {
      "image/png": "[encoded data removed]",
      "text/plain": [
       "<Figure size 432x288 with 1 Axes>"
      ]
     },
     "metadata": {
      "needs_background": "light"
     },
     "output_type": "display_data"
    }
   ],
   "source": [
    "# below visualization shows patients systolic blood pressure based on gender\n",
    "CHF1 = df_1.drop(df_1[df_1.systolic_bp >500].index)\n",
    "sns.histplot(x='systolic_bp', data=CHF1, kde=True, hue='gender')\n",
    "plt.xlabel('systolic_bp')\n",
    "plt.ylabel('No. of patients')\n",
    "  \n",
    "plt.show()"
   ]
  },
  {
   "cell_type": "code",
   "execution_count": 54,
   "metadata": {},
   "outputs": [
    {
     "data": {
      "image/png": "[encoded data removed]",
      "text/plain": [
       "<Figure size 432x288 with 1 Axes>"
      ]
     },
     "metadata": {
      "needs_background": "light"
     },
     "output_type": "display_data"
    }
   ],
   "source": [
    "# below visualization shows patients diastolic blood pressure based on gender\n",
    "CHF2 = df_1.drop(df_1[df_1.diastolic_bp >300].index)\n",
    "sns.histplot(x='diastolic_bp', data=CHF2, kde=True, hue='gender')\n",
    "plt.xlabel('diastolic_bp')\n",
    "plt.ylabel('No. of patients')\n",
    "  \n",
    "plt.show()"
   ]
  },
  {
   "cell_type": "code",
   "execution_count": 55,
   "metadata": {},
   "outputs": [],
   "source": [
    "# SHOWING THE MEAN FOR EACH CONDITION ACROSS THE TABLE "
   ]
  },
  {
   "cell_type": "code",
   "execution_count": 56,
   "metadata": {},
   "outputs": [
    {
     "data": {
      "text/html": [
       "<div>\n",
       "<style scoped>\n",
       "    .dataframe tbody tr th:only-of-type {\n",
       "        vertical-align: middle;\n",
       "    }\n",
       "\n",
       "    .dataframe tbody tr th {\n",
       "        vertical-align: top;\n",
       "    }\n",
       "\n",
       "    .dataframe thead th {\n",
       "        text-align: right;\n",
       "    }\n",
       "</style>\n",
       "<table border=\"1\" class=\"dataframe\">\n",
       "  <thead>\n",
       "    <tr style=\"text-align: right;\">\n",
       "      <th></th>\n",
       "      <th>person_id</th>\n",
       "      <th>pathway1</th>\n",
       "      <th>diastolic_bp</th>\n",
       "      <th>systolic_bp</th>\n",
       "      <th>age</th>\n",
       "      <th>weight</th>\n",
       "      <th>dead_alive</th>\n",
       "      <th>hypertention_pathway</th>\n",
       "      <th>hyperlipidemia_pathway</th>\n",
       "      <th>clusters</th>\n",
       "    </tr>\n",
       "    <tr>\n",
       "      <th>diabetes_pathway</th>\n",
       "      <th></th>\n",
       "      <th></th>\n",
       "      <th></th>\n",
       "      <th></th>\n",
       "      <th></th>\n",
       "      <th></th>\n",
       "      <th></th>\n",
       "      <th></th>\n",
       "      <th></th>\n",
       "      <th></th>\n",
       "    </tr>\n",
       "  </thead>\n",
       "  <tbody>\n",
       "    <tr>\n",
       "      <th>0</th>\n",
       "      <td>3.927974e+08</td>\n",
       "      <td>0.458262</td>\n",
       "      <td>107.783646</td>\n",
       "      <td>174.204855</td>\n",
       "      <td>72.568995</td>\n",
       "      <td>89.947832</td>\n",
       "      <td>0.406729</td>\n",
       "      <td>0.600511</td>\n",
       "      <td>0.484668</td>\n",
       "      <td>2.277257</td>\n",
       "    </tr>\n",
       "    <tr>\n",
       "      <th>1</th>\n",
       "      <td>3.927964e+08</td>\n",
       "      <td>0.526462</td>\n",
       "      <td>109.807799</td>\n",
       "      <td>181.696379</td>\n",
       "      <td>68.470752</td>\n",
       "      <td>94.397521</td>\n",
       "      <td>0.440111</td>\n",
       "      <td>0.532033</td>\n",
       "      <td>0.545961</td>\n",
       "      <td>3.130919</td>\n",
       "    </tr>\n",
       "  </tbody>\n",
       "</table>\n",
       "</div>"
      ],
      "text/plain": [
       "                     person_id  pathway1  diastolic_bp  systolic_bp  \\\n",
       "diabetes_pathway                                                      \n",
       "0                 3.927974e+08  0.458262    107.783646   174.204855   \n",
       "1                 3.927964e+08  0.526462    109.807799   181.696379   \n",
       "\n",
       "                        age     weight  dead_alive  hypertention_pathway  \\\n",
       "diabetes_pathway                                                           \n",
       "0                 72.568995  89.947832    0.406729              0.600511   \n",
       "1                 68.470752  94.397521    0.440111              0.532033   \n",
       "\n",
       "                  hyperlipidemia_pathway  clusters  \n",
       "diabetes_pathway                                    \n",
       "0                               0.484668  2.277257  \n",
       "1                               0.545961  3.130919  "
      ]
     },
     "execution_count": 56,
     "metadata": {},
     "output_type": "execute_result"
    }
   ],
   "source": [
    "df_1.groupby('diabetes_pathway').mean()"
   ]
  },
  {
   "cell_type": "code",
   "execution_count": 57,
   "metadata": {},
   "outputs": [
    {
     "data": {
      "text/html": [
       "<div>\n",
       "<style scoped>\n",
       "    .dataframe tbody tr th:only-of-type {\n",
       "        vertical-align: middle;\n",
       "    }\n",
       "\n",
       "    .dataframe tbody tr th {\n",
       "        vertical-align: top;\n",
       "    }\n",
       "\n",
       "    .dataframe thead th {\n",
       "        text-align: right;\n",
       "    }\n",
       "</style>\n",
       "<table border=\"1\" class=\"dataframe\">\n",
       "  <thead>\n",
       "    <tr style=\"text-align: right;\">\n",
       "      <th></th>\n",
       "      <th>person_id</th>\n",
       "      <th>pathway1</th>\n",
       "      <th>diastolic_bp</th>\n",
       "      <th>systolic_bp</th>\n",
       "      <th>age</th>\n",
       "      <th>weight</th>\n",
       "      <th>dead_alive</th>\n",
       "      <th>diabetes_pathway</th>\n",
       "      <th>hypertention_pathway</th>\n",
       "      <th>clusters</th>\n",
       "    </tr>\n",
       "    <tr>\n",
       "      <th>hyperlipidemia_pathway</th>\n",
       "      <th></th>\n",
       "      <th></th>\n",
       "      <th></th>\n",
       "      <th></th>\n",
       "      <th></th>\n",
       "      <th></th>\n",
       "      <th></th>\n",
       "      <th></th>\n",
       "      <th></th>\n",
       "      <th></th>\n",
       "    </tr>\n",
       "  </thead>\n",
       "  <tbody>\n",
       "    <tr>\n",
       "      <th>0</th>\n",
       "      <td>3.927957e+08</td>\n",
       "      <td>0.398398</td>\n",
       "      <td>108.352513</td>\n",
       "      <td>175.621996</td>\n",
       "      <td>71.426803</td>\n",
       "      <td>89.577422</td>\n",
       "      <td>0.313183</td>\n",
       "      <td>0.118718</td>\n",
       "      <td>0.510561</td>\n",
       "      <td>1.808449</td>\n",
       "    </tr>\n",
       "    <tr>\n",
       "      <th>1</th>\n",
       "      <td>3.927989e+08</td>\n",
       "      <td>0.538231</td>\n",
       "      <td>107.742879</td>\n",
       "      <td>174.762369</td>\n",
       "      <td>72.641679</td>\n",
       "      <td>91.526552</td>\n",
       "      <td>0.511994</td>\n",
       "      <td>0.146927</td>\n",
       "      <td>0.674663</td>\n",
       "      <td>2.989505</td>\n",
       "    </tr>\n",
       "  </tbody>\n",
       "</table>\n",
       "</div>"
      ],
      "text/plain": [
       "                           person_id  pathway1  diastolic_bp  systolic_bp  \\\n",
       "hyperlipidemia_pathway                                                      \n",
       "0                       3.927957e+08  0.398398    108.352513   175.621996   \n",
       "1                       3.927989e+08  0.538231    107.742879   174.762369   \n",
       "\n",
       "                              age     weight  dead_alive  diabetes_pathway  \\\n",
       "hyperlipidemia_pathway                                                       \n",
       "0                       71.426803  89.577422    0.313183          0.118718   \n",
       "1                       72.641679  91.526552    0.511994          0.146927   \n",
       "\n",
       "                        hypertention_pathway  clusters  \n",
       "hyperlipidemia_pathway                                  \n",
       "0                                   0.510561  1.808449  \n",
       "1                                   0.674663  2.989505  "
      ]
     },
     "execution_count": 57,
     "metadata": {},
     "output_type": "execute_result"
    }
   ],
   "source": [
    "df_1.groupby('hyperlipidemia_pathway').mean()"
   ]
  },
  {
   "cell_type": "code",
   "execution_count": 58,
   "metadata": {},
   "outputs": [
    {
     "data": {
      "text/html": [
       "<div>\n",
       "<style scoped>\n",
       "    .dataframe tbody tr th:only-of-type {\n",
       "        vertical-align: middle;\n",
       "    }\n",
       "\n",
       "    .dataframe tbody tr th {\n",
       "        vertical-align: top;\n",
       "    }\n",
       "\n",
       "    .dataframe thead th {\n",
       "        text-align: right;\n",
       "    }\n",
       "</style>\n",
       "<table border=\"1\" class=\"dataframe\">\n",
       "  <thead>\n",
       "    <tr style=\"text-align: right;\">\n",
       "      <th></th>\n",
       "      <th>person_id</th>\n",
       "      <th>pathway1</th>\n",
       "      <th>diastolic_bp</th>\n",
       "      <th>systolic_bp</th>\n",
       "      <th>age</th>\n",
       "      <th>weight</th>\n",
       "      <th>dead_alive</th>\n",
       "      <th>diabetes_pathway</th>\n",
       "      <th>hyperlipidemia_pathway</th>\n",
       "      <th>clusters</th>\n",
       "    </tr>\n",
       "    <tr>\n",
       "      <th>hypertention_pathway</th>\n",
       "      <th></th>\n",
       "      <th></th>\n",
       "      <th></th>\n",
       "      <th></th>\n",
       "      <th></th>\n",
       "      <th></th>\n",
       "      <th></th>\n",
       "      <th></th>\n",
       "      <th></th>\n",
       "      <th></th>\n",
       "    </tr>\n",
       "  </thead>\n",
       "  <tbody>\n",
       "    <tr>\n",
       "      <th>0</th>\n",
       "      <td>3.927976e+08</td>\n",
       "      <td>0.387884</td>\n",
       "      <td>107.000904</td>\n",
       "      <td>173.387884</td>\n",
       "      <td>71.137432</td>\n",
       "      <td>89.674069</td>\n",
       "      <td>0.354430</td>\n",
       "      <td>0.151899</td>\n",
       "      <td>0.392405</td>\n",
       "      <td>1.735986</td>\n",
       "    </tr>\n",
       "    <tr>\n",
       "      <th>1</th>\n",
       "      <td>3.927970e+08</td>\n",
       "      <td>0.522174</td>\n",
       "      <td>108.778264</td>\n",
       "      <td>176.449094</td>\n",
       "      <td>72.638976</td>\n",
       "      <td>91.134728</td>\n",
       "      <td>0.450344</td>\n",
       "      <td>0.119300</td>\n",
       "      <td>0.562149</td>\n",
       "      <td>2.842598</td>\n",
       "    </tr>\n",
       "  </tbody>\n",
       "</table>\n",
       "</div>"
      ],
      "text/plain": [
       "                         person_id  pathway1  diastolic_bp  systolic_bp  \\\n",
       "hypertention_pathway                                                      \n",
       "0                     3.927976e+08  0.387884    107.000904   173.387884   \n",
       "1                     3.927970e+08  0.522174    108.778264   176.449094   \n",
       "\n",
       "                            age     weight  dead_alive  diabetes_pathway  \\\n",
       "hypertention_pathway                                                       \n",
       "0                     71.137432  89.674069    0.354430          0.151899   \n",
       "1                     72.638976  91.134728    0.450344          0.119300   \n",
       "\n",
       "                      hyperlipidemia_pathway  clusters  \n",
       "hypertention_pathway                                    \n",
       "0                                   0.392405  1.735986  \n",
       "1                                   0.562149  2.842598  "
      ]
     },
     "execution_count": 58,
     "metadata": {},
     "output_type": "execute_result"
    }
   ],
   "source": [
    "df_1.groupby('hypertention_pathway').mean()"
   ]
  },
  {
   "cell_type": "code",
   "execution_count": 59,
   "metadata": {},
   "outputs": [],
   "source": [
    "# dividing the data into training and test sets"
   ]
  },
  {
   "cell_type": "code",
   "execution_count": 60,
   "metadata": {},
   "outputs": [],
   "source": [
    "#split dataset in features and target variable\n",
    "feature_cols = ['pathway1','diastolic_bp','systolic_bp','age','weight']\n",
    "x = df_1[feature_cols] # Features\n",
    "y = df_1.hypertention_pathway # Target variable"
   ]
  },
  {
   "cell_type": "code",
   "execution_count": 61,
   "metadata": {},
   "outputs": [],
   "source": [
    "from sklearn.model_selection import train_test_split\n",
    "x_train, x_test, y_train, y_test = train_test_split(x, y, test_size = 0.2, random_state=0)"
   ]
  },
  {
   "cell_type": "code",
   "execution_count": 62,
   "metadata": {},
   "outputs": [],
   "source": [
    "# import the class\n",
    "from sklearn.linear_model import LogisticRegression\n",
    "\n",
    "# instantiate the model (using the default parameters)\n",
    "logreg = LogisticRegression()\n",
    "\n",
    "# fit the model with data\n",
    "logreg.fit(x_train,y_train)\n",
    "\n",
    "#\n",
    "y_pred=logreg.predict(x_test)"
   ]
  },
  {
   "cell_type": "code",
   "execution_count": 63,
   "metadata": {},
   "outputs": [
    {
     "data": {
      "text/plain": [
       "array([[ 49, 188],\n",
       "       [ 27, 278]])"
      ]
     },
     "execution_count": 63,
     "metadata": {},
     "output_type": "execute_result"
    }
   ],
   "source": [
    "# import the metrics class\n",
    "from sklearn import metrics\n",
    "cnf_matrix = metrics.confusion_matrix(y_test, y_pred)\n",
    "cnf_matrix"
   ]
  },
  {
   "cell_type": "code",
   "execution_count": 67,
   "metadata": {},
   "outputs": [
    {
     "data": {
      "text/plain": [
       "Text(0.5, 257.44, 'Predicted label')"
      ]
     },
     "execution_count": 67,
     "metadata": {},
     "output_type": "execute_result"
    },
    {
     "data": {
      "image/png": "[encoded data removed]",
      "text/plain": [
       "<Figure size 432x288 with 2 Axes>"
      ]
     },
     "metadata": {
      "needs_background": "light"
     },
     "output_type": "display_data"
    }
   ],
   "source": [
    "# Development of heat map shows actual and predicted value\n",
    "class_names=[0,1] # name  of classes\n",
    "fig, ax = plt.subplots()\n",
    "tick_marks = np.arange(len(class_names))\n",
    "plt.xticks(tick_marks, class_names)\n",
    "plt.yticks(tick_marks, class_names)\n",
    "# create heatmap\n",
    "sns.heatmap(pd.DataFrame(cnf_matrix), annot=True, cmap=\"Blues\" ,fmt='g')\n",
    "ax.xaxis.set_label_position(\"top\")\n",
    "plt.tight_layout()\n",
    "plt.ylabel('Actual label')\n",
    "plt.xlabel('Predicted label')"
   ]
  },
  {
   "cell_type": "code",
   "execution_count": 69,
   "metadata": {},
   "outputs": [
    {
     "name": "stdout",
     "output_type": "stream",
     "text": [
      "Accuracy: 0.6033210332103321\n",
      "Precision: 0.5965665236051502\n",
      "Recall: 0.9114754098360656\n"
     ]
    }
   ],
   "source": [
    "# Getting accuracy of our prediction and development of ROC curve\n",
    "\n",
    "print(\"Accuracy:\",metrics.accuracy_score(y_test, y_pred))\n",
    "print(\"Precision:\",metrics.precision_score(y_test, y_pred))\n",
    "print(\"Recall:\",metrics.recall_score(y_test, y_pred))"
   ]
  },
  {
   "cell_type": "code",
   "execution_count": 70,
   "metadata": {},
   "outputs": [
    {
     "data": {
      "image/png": "[encoded data removed]",
      "text/plain": [
       "<Figure size 432x288 with 1 Axes>"
      ]
     },
     "metadata": {
      "needs_background": "light"
     },
     "output_type": "display_data"
    }
   ],
   "source": [
    "y_pred_proba = logreg.predict_proba(x_test)[::,1]\n",
    "fpr, tpr, _ = metrics.roc_curve(y_test,  y_pred_proba)\n",
    "auc = metrics.roc_auc_score(y_test, y_pred_proba)\n",
    "plt.plot(fpr,tpr,label=\"data 1, auc=\"+str(auc))\n",
    "plt.legend(loc=4)\n",
    "plt.show()"
   ]
  },
  {
   "cell_type": "code",
   "execution_count": null,
   "metadata": {},
   "outputs": [],
   "source": []
  },
  {
   "cell_type": "code",
   "execution_count": null,
   "metadata": {},
   "outputs": [],
   "source": []
  },
  {
   "cell_type": "code",
   "execution_count": null,
   "metadata": {},
   "outputs": [],
   "source": []
  }
 ],
 "metadata": {
  "kernelspec": {
   "display_name": "Python 3",
   "language": "python",
   "name": "python3"
  },
  "language_info": {
   "codemirror_mode": {
    "name": "ipython",
    "version": 3
   },
   "file_extension": ".py",
   "mimetype": "text/x-python",
   "name": "python",
   "nbconvert_exporter": "python",
   "pygments_lexer": "ipython3",
   "version": "3.7.6"
  }
 },
 "nbformat": 4,
 "nbformat_minor": 4
}
